{
 "cells": [
  {
   "cell_type": "raw",
   "metadata": {
    "vscode": {
     "languageId": "raw"
    }
   },
   "source": [
    "---\n",
    "layout: post\n",
    "title: Safe Computing\n",
    "search_exclude: true\n",
    "description: CPT requirements and PPR Blog\n",
    "permalink: /safe_computing\n",
    "Author: Ian\n",
    "comments: true\n",
    "---"
   ]
  },
  {
   "cell_type": "markdown",
   "metadata": {},
   "source": [
    "**Ian Manangan**"
   ]
  },
  {
   "cell_type": "markdown",
   "metadata": {},
   "source": [
    "# Safe Computing Hacks & Homework Hacks\n",
    "\n",
    "## **Popcorn Hack 1: Cookies**\n",
    "- **Name:** `user_session`\n",
    "- **Value:** `hTrkM5JdlI29MnSR2P`\n",
    "- **Expiration Date:** `2026-07-23T09:58:21.TRJ3`\n",
    "- **Category:** First-Party Cookie\n",
    "\n",
    "---\n",
    "\n",
    "## **Popcorn Hack 2: CAPTCHA**\n",
    "- The CAPTCHA contains **3 boxes**:\n",
    "  - **First**: Square **3×1**\n",
    "  - **Second**: Square **2×2**\n",
    "  - **Third**: Square **3×2**\n",
    "\n",
    "---\n",
    "\n",
    "## **MCQ Popcorn Hack 1: Multiple Choice Questions**\n",
    "1. ✅ **Multiple forms of identity verification before granting access**\n",
    "2. ✅ **Asymmetric Encryption**\n",
    "3. ✅ **Personally Identifiable Information**\n",
    "4. ✅ **Respecting privacy policies and obtaining user consent before collecting data**\n",
    "5. ✅ **Symmetric Encryption**\n",
    "6. ✅ **Verify the legitimacy of the email by contacting the bank directly through official contact methods**\n",
    "7. ✅ **A scam where an attacker tricks users into providing personal information by pretending to be a trustworthy entity**\n",
    "8. ✅ **The software could contain malware or viruses that compromise the computer’s security**\n",
    "9. ✅ **Even if the public key is known, only the private key can decrypt the message**\n",
    "10. ✅ **Alice's public key**\n",
    "\n",
    "---\n",
    "\n",
    "## **Code Popcorn Hack 2: Modified Caesar Cipher**\n",
    "```python\n",
    "import random\n",
    "\n",
    "def caesar_cipher(text, shift, mode):\n",
    "    result = \"\"\n",
    "    for char in text:\n",
    "        if char.isalpha():  # Encrypts only letters\n",
    "            shift_amount = shift if mode == \"encrypt\" else -shift\n",
    "            new_char = chr(((ord(char.lower()) - 97 + shift_amount) % 26) + 97)\n",
    "            result += new_char.upper() if char.isupper() else new_char\n",
    "        else:\n",
    "            result += char  # Keeps spaces and non-letter characters unchanged\n",
    "    return result\n",
    "\n",
    "mode = input(\"Do you want to encrypt or decrypt? \").strip().lower()\n",
    "message = input(\"Enter your message: \")\n",
    "shift_input = input(\"Enter shift value (number of places to shift, or type 'random'): \").strip().lower()\n",
    "\n",
    "if shift_input == \"random\":\n",
    "    shift = random.randint(1, 25)\n",
    "    print(f\"Random shift value used: {shift}\")\n",
    "else:\n",
    "    shift = int(shift_input)\n",
    "\n",
    "output = caesar_cipher(message, shift, mode)\n",
    "print(f\"Result: {output}\")\n",
    "```"
   ]
  },
  {
   "cell_type": "code",
   "execution_count": 1,
   "metadata": {},
   "outputs": [
    {
     "name": "stdout",
     "output_type": "stream",
     "text": [
      "Random shift value used: 13\n",
      "Result: qnqql\n"
     ]
    }
   ],
   "source": [
    "import random\n",
    "\n",
    "def caesar_cipher(text, shift, mode):\n",
    "    result = \"\"\n",
    "    for char in text:\n",
    "        if char.isalpha():  # Encrypts only letters\n",
    "            shift_amount = shift if mode == \"encrypt\" else -shift\n",
    "            new_char = chr(((ord(char.lower()) - 97 + shift_amount) % 26) + 97)\n",
    "            result += new_char.upper() if char.isupper() else new_char\n",
    "        else:\n",
    "            result += char  # Keeps spaces and non-letter characters unchanged\n",
    "    return result\n",
    "\n",
    "mode = input(\"Do you want to encrypt or decrypt? \").strip().lower()\n",
    "message = input(\"Enter your message: \")\n",
    "shift_input = input(\"Enter shift value (number of places to shift, or type 'random'): \").strip().lower()\n",
    "\n",
    "if shift_input == \"random\":\n",
    "    shift = random.randint(1, 25)\n",
    "    print(f\"Random shift value used: {shift}\")\n",
    "else:\n",
    "    shift = int(shift_input)\n",
    "\n",
    "output = caesar_cipher(message, shift, mode)\n",
    "print(f\"Result: {output}\")"
   ]
  }
 ],
 "metadata": {
  "kernelspec": {
   "display_name": "venv",
   "language": "python",
   "name": "python3"
  },
  "language_info": {
   "codemirror_mode": {
    "name": "ipython",
    "version": 3
   },
   "file_extension": ".py",
   "mimetype": "text/x-python",
   "name": "python",
   "nbconvert_exporter": "python",
   "pygments_lexer": "ipython3",
   "version": "3.10.12"
  }
 },
 "nbformat": 4,
 "nbformat_minor": 2
}
