{
 "cells": [
  {
   "cell_type": "markdown",
   "id": "46026e92",
   "metadata": {},
   "source": [
    "---\n",
    "title: List Filtering\n",
    "layout: post\n",
    "type: issues\n",
    "courses: { csp: {week: 9} }\n",
    "search_exclude: true\n",
    "description: List Filtering Blog\n",
    "permalink: csp/list_filtering\n",
    "Author: Ian\n",
    "toc: true\n",
    "comments: true\n",
    "---"
   ]
  },
  {
   "cell_type": "markdown",
   "id": "f0cc416c",
   "metadata": {},
   "source": [
    "### Popcorn Hack 1: What are some possible benefits of using lists? What are some real world examples?\n",
    "\n",
    "**Benefits of Lists:**\n",
    "- Store multiple values in a single variable\n",
    "- Easily loop through, modify, and organize data\n",
    "- Make code cleaner and more efficient\n",
    "\n",
    "**Real World Examples:**\n",
    "- **Shopping Cart** – Stores all items you want to purchase\n",
    "- **Inbox** – A list of all emails you receive\n",
    "- **Playlist** – Songs stored in a list so they can play in order"
   ]
  },
  {
   "cell_type": "markdown",
   "id": "990693a2",
   "metadata": {},
   "source": [
    "\n",
    "---\n",
    "\n",
    "### Popcorn Hack 2: What does this code output?"
   ]
  },
  {
   "cell_type": "code",
   "execution_count": 1,
   "id": "ce0e52fa",
   "metadata": {},
   "outputs": [
    {
     "name": "stdout",
     "output_type": "stream",
     "text": [
      "eraser\n"
     ]
    }
   ],
   "source": [
    "items = [\"pen\", \"pencil\", \"marker\", \"eraser\"]\n",
    "items.remove(\"pencil\")\n",
    "items.append(\"sharpener\")\n",
    "print(items[2])"
   ]
  },
  {
   "cell_type": "markdown",
   "id": "abda04e3",
   "metadata": {},
   "source": [
    "\n",
    "---\n",
    "\n",
    "### Popcorn Hack 3: What are some real world examples of filtering algorithms?\n",
    "\n",
    "**Examples of Filtering Algorithms in Real Life:**\n",
    "- **Email Inbox** – Only show unread or important emails\n",
    "- **Online Stores (Amazon)** – Filter by price, brand, or ratings\n",
    "- **Netflix** – Recommend shows in a specific genre or rating\n",
    "- **Spotify Search** – Finds songs that match keywords\n",
    "\n",
    "**Relation to Flask Projects:**\n",
    "- Flask filters database results based on user input (e.g. SQL queries)\n",
    "- Matching data is returned using `jsonify()` for frontend display\n"
   ]
  },
  {
   "cell_type": "markdown",
   "id": "c5ddd3c6",
   "metadata": {},
   "source": [
    "\n",
    "---\n",
    "\n",
    "### Homework Hack Part 1: Create a List & Use List Procedures\n"
   ]
  },
  {
   "cell_type": "code",
   "execution_count": 2,
   "id": "a92a2bdd",
   "metadata": {},
   "outputs": [
    {
     "name": "stdout",
     "output_type": "stream",
     "text": [
      "Final Fruit List: ['apple', 'orange', 'cherry', 'kiwi', 'grape', 'mango']\n"
     ]
    }
   ],
   "source": [
    "# My Favorite Fruits List\n",
    "fruits = [\"apple\", \"banana\", \"cherry\", \"kiwi\", \"grape\"]\n",
    "\n",
    "# append() adds an item to the end of the list\n",
    "fruits.append(\"mango\")  # Adds 'mango'\n",
    "\n",
    "# insert() adds an item at a specific index\n",
    "fruits.insert(2, \"orange\")  # Inserts 'orange' at index 2\n",
    "\n",
    "# remove() removes a specific item\n",
    "fruits.remove(\"banana\")  # Removes 'banana'\n",
    "\n",
    "print(\"Final Fruit List:\", fruits)"
   ]
  },
  {
   "cell_type": "markdown",
   "id": "25582f39",
   "metadata": {},
   "source": [
    "\n",
    "---\n",
    "\n",
    "### Homework Hack Part 2: List Traversal Instructions\n",
    "\n",
    "**Steps to Traverse a List:**\n",
    "1. Start with a list of items.\n",
    "2. Use a `for` loop to go through each item one at a time.\n",
    "3. Perform an action (e.g. print or check) during each iteration.\n"
   ]
  },
  {
   "cell_type": "code",
   "execution_count": 3,
   "id": "2c28b4a9",
   "metadata": {},
   "outputs": [
    {
     "name": "stdout",
     "output_type": "stream",
     "text": [
      "Fruit: apple\n",
      "Fruit: orange\n",
      "Fruit: cherry\n",
      "Fruit: kiwi\n",
      "Fruit: grape\n"
     ]
    }
   ],
   "source": [
    "# List of fruits\n",
    "fruits = [\"apple\", \"orange\", \"cherry\", \"kiwi\", \"grape\"]\n",
    "\n",
    "# Traverse the list using a for loop\n",
    "for fruit in fruits:\n",
    "    print(\"Fruit:\", fruit)"
   ]
  },
  {
   "cell_type": "markdown",
   "id": "a327c660",
   "metadata": {},
   "source": [
    "\n",
    "---\n",
    "\n",
    "### Homework Hack Part 3: Filtering Algorithm\n",
    "\n",
    "**Goal: Filter fruits that start with 'a' or 'g'**\n",
    "\n",
    "**Steps:**\n",
    "1. Start with a list of fruits.\n",
    "2. Traverse the list using a `for` loop.\n",
    "3. Use an `if` statement to check if the fruit starts with 'a' or 'g'.\n",
    "4. Append matching items to a new list."
   ]
  },
  {
   "cell_type": "code",
   "execution_count": 4,
   "id": "c9c12567",
   "metadata": {},
   "outputs": [
    {
     "name": "stdout",
     "output_type": "stream",
     "text": [
      "Filtered Fruits: ['apple', 'grape']\n"
     ]
    }
   ],
   "source": [
    "# Filter fruits that start with 'a' or 'g'\n",
    "fruits = [\"apple\", \"orange\", \"cherry\", \"kiwi\", \"grape\", \"mango\"]\n",
    "filtered_fruits = []\n",
    "\n",
    "for fruit in fruits:\n",
    "    if fruit.startswith(\"a\") or fruit.startswith(\"g\"):\n",
    "        filtered_fruits.append(fruit)\n",
    "\n",
    "print(\"Filtered Fruits:\", filtered_fruits)"
   ]
  },
  {
   "cell_type": "markdown",
   "id": "e20849ab",
   "metadata": {},
   "source": [
    "\n",
    "---\n",
    "\n",
    "### Final Reflection\n",
    "\n",
    "Filtering algorithms and lists are used every day in apps like Spotify and Netflix to help users find exactly what they want. They work by going through large amounts of data and pulling out only the parts that match the user's needs.\n"
   ]
  }
 ],
 "metadata": {
  "kernelspec": {
   "display_name": "venv",
   "language": "python",
   "name": "python3"
  },
  "language_info": {
   "codemirror_mode": {
    "name": "ipython",
    "version": 3
   },
   "file_extension": ".py",
   "mimetype": "text/x-python",
   "name": "python",
   "nbconvert_exporter": "python",
   "pygments_lexer": "ipython3",
   "version": "3.10.12"
  }
 },
 "nbformat": 4,
 "nbformat_minor": 5
}
