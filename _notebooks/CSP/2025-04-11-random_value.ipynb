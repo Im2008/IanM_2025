{
 "cells": [
  {
   "cell_type": "markdown",
   "id": "43140202",
   "metadata": {},
   "source": [
    "# Random Number Generation - Popcorn Hacks & Homework\n",
    "\n",
    "## Popcorn Hack 1: Real-World Applications\n",
    "\n",
    "**Question:** Name two real-world applications where random number generation is essential and briefly explain why.\n",
    "\n",
    "**Answer:**\n",
    "\n",
    "1. **Cybersecurity**: Random number generation is used to create encryption keys that secure sensitive data in digital communication. If the keys were predictable, attackers could easily break the encryption.\n",
    "\n",
    "2. **Gaming**: In games, random numbers are used for dice rolls, loot drops, and procedural content generation, making each playthrough unique and engaging.\n",
    "\n",
    "---"
   ]
  },
  {
   "cell_type": "markdown",
   "id": "743bdf95",
   "metadata": {},
   "source": [
    "## Popcorn Hack 2: Magic 8-Ball:\n",
    "\n",
    "**Task:** Complete the magic_8_ball function that:\n",
    "\n",
    "- Returns “Yes” roughly 50% of the time\n",
    "- Returns “No” roughly 25% of the time\n",
    "- Returns “Ask again later” roughly 25% of the time\n",
    "\n",
    "**Modified Code:**"
   ]
  },
  {
   "cell_type": "code",
   "execution_count": null,
   "id": "b8adc2d7",
   "metadata": {},
   "outputs": [],
   "source": [
    "import random\n",
    "\n",
    "def magic_8_ball():\n",
    "    roll = random.randint(1, 4)\n",
    "    if roll <= 2:\n",
    "        return \"Yes\"         # 50%\n",
    "    elif roll == 3:\n",
    "        return \"No\"          # 25%\n",
    "    else:\n",
    "        return \"Ask again later\"  # 25%\n",
    "\n",
    "# Test\n",
    "for i in range(10):\n",
    "    print(f\"Magic 8-Ball says: {magic_8_ball()}\")"
   ]
  },
  {
   "cell_type": "markdown",
   "id": "27932a5f",
   "metadata": {},
   "source": [
    "\n",
    "---\n",
    "\n",
    "## Popcorn Hack 3: Traffic Light Simulation Modification\n",
    "\n",
    "**Task:** Modify the simulation so that:\n",
    "\n",
    "- Green lasts for 5 steps  \n",
    "- Yellow lasts for 2 steps  \n",
    "- Red lasts for 4 steps  \n",
    "- Run it for 20 time steps and print the results\n",
    "\n",
    "**Modified Code:**"
   ]
  },
  {
   "cell_type": "code",
   "execution_count": null,
   "id": "16fc2968",
   "metadata": {},
   "outputs": [],
   "source": [
    "states = [\"Green\", \"Yellow\", \"Red\"]\n",
    "durations = {\"Green\": 5, \"Yellow\": 2, \"Red\": 4}\n",
    "timeline = []\n",
    "\n",
    "# Simulate 20 time steps\n",
    "time = 0\n",
    "state = \"Green\"\n",
    "counter = 0\n",
    "\n",
    "while time < 20:\n",
    "    timeline.append((time, state))\n",
    "    counter += 1\n",
    "    if counter == durations[state]:\n",
    "        counter = 0\n",
    "        current_index = states.index(state)\n",
    "        state = states[(current_index + 1) % len(states)]\n",
    "    time += 1\n",
    "\n",
    "for t, s in timeline:\n",
    "    print(f\"Time {t}: {s}\")\n"
   ]
  },
  {
   "cell_type": "markdown",
   "id": "ca14e33f",
   "metadata": {},
   "source": [
    "\n",
    "---\n",
    "\n",
    "# Homework Hack 1: Dice Game (Simulation and Randomness)"
   ]
  },
  {
   "cell_type": "code",
   "execution_count": null,
   "id": "0046d43b",
   "metadata": {},
   "outputs": [],
   "source": [
    "import random\n",
    "\n",
    "def roll_dice():\n",
    "    die1 = random.randint(1, 6)\n",
    "    die2 = random.randint(1, 6)\n",
    "    return die1, die2, die1 + die2\n",
    "\n",
    "def play_dice_game():\n",
    "    die1, die2, total = roll_dice()\n",
    "    print(f\"Initial roll: {die1} + {die2} = {total}\")\n",
    "\n",
    "    if total in [7, 11]:\n",
    "        print(\"You win!\")\n",
    "        return True\n",
    "    elif total in [2, 3, 12]:\n",
    "        print(\"You lose!\")\n",
    "        return False\n",
    "    else:\n",
    "        point = total\n",
    "        print(f\"Point is set to {point}\")\n",
    "        while True:\n",
    "            die1, die2, total = roll_dice()\n",
    "            print(f\"Rolling again: {die1} + {die2} = {total}\")\n",
    "            if total == point:\n",
    "                print(\"You hit your point again! You win!\")\n",
    "                return True\n",
    "            elif total == 7:\n",
    "                print(\"You rolled a 7. You lose!\")\n",
    "                return False\n",
    "\n",
    "def main():\n",
    "    wins = 0\n",
    "    losses = 0\n",
    "\n",
    "    while True:\n",
    "        play = input(\"Do you want to play the dice game? (yes/no): \").lower()\n",
    "        if play == \"yes\":\n",
    "            if play_dice_game():\n",
    "                wins += 1\n",
    "            else:\n",
    "                losses += 1\n",
    "            print(f\"Wins: {wins}, Losses: {losses}\")\n",
    "        else:\n",
    "            print(\"Game over!\")\n",
    "            print(f\"Final Stats - Wins: {wins}, Losses: {losses}\")\n",
    "            break\n",
    "\n",
    "if __name__ == \"__main__\":\n",
    "    print(\"Welcome to the Dice Game!\")\n",
    "    main()\n"
   ]
  }
 ],
 "metadata": {
  "language_info": {
   "name": "python"
  }
 },
 "nbformat": 4,
 "nbformat_minor": 5
}
