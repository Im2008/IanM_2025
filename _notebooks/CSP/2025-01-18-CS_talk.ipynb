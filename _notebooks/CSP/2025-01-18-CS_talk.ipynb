{
 "cells": [
  {
   "cell_type": "markdown",
   "metadata": {},
   "source": [
    "**Impact On Me:**\n",
    "When I work, I usually am too simple with my projects and essays. As a result, I get average scoring on these projects because I don't attempt to take the risk. \n",
    "\n",
    "Overall if I improve my creativity and organize my ideas more effectively, i'll be able to have projects that stand out that'll enchance my performance at irregular or challenging tasks.\n",
    "\n",
    "\n",
    "\n",
    "\n",
    "\n",
    "\n",
    "\n",
    "\n",
    "**Organization:**\n",
    "- Best teams are organized with each other: check up with code to code.\n",
    "\n",
    "- Communication makes someone more efficient than a skilled person.\n",
    "\n",
    "**Projects:**\n",
    "\n",
    "- Ideas: Think of small ideas, work into bigger ones.\n",
    "---\n",
    "\n",
    "- Problems/Deadlines that happen: maintain quality over standards, consult with others as well.\n",
    "---\n",
    "\n",
    "-> Talking to different teams, other people, help with problems more easily.\n",
    "\n",
    "- CREATIVITY: standards are fine, but if you're more creative, even if it doesn't work as well, it serves as a challenge for you to tweak later on.\n",
    "\n",
    "- Look at other projects:\n",
    "---\n",
    "\n",
    "-> People can sometimes have similar code, but more defined.\n",
    "\n",
    "-> Github code most of the time will be more organized, better code, and comments to show what it does.\n",
    "\n",
    "**Colleges:**\n",
    "\n",
    "- Colleges focus on your impact on the school.\n",
    "\n",
    "-> Mention projects, accomplishments you're proud of, goals going further.\n",
    "\n",
    "-> Don't oversaturate high school, still maintain grades, but don't stress over colleges."
   ]
  }
 ],
 "metadata": {
  "language_info": {
   "name": "python"
  }
 },
 "nbformat": 4,
 "nbformat_minor": 2
}
