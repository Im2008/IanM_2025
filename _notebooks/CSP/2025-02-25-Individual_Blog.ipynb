{
 "cells": [
  {
   "cell_type": "raw",
   "metadata": {
    "vscode": {
     "languageId": "raw"
    }
   },
   "source": [
    "---\n",
    "layout: post\n",
    "title: Individual Blog for N@TM qualification rounds\n",
    "search_exclude: true\n",
    "courses: { csp: {week: 20} }\n",
    "description: Individual Blog listing contributions\n",
    "permalink: /individual\n",
    "Author: Ian\n",
    "---"
   ]
  },
  {
   "cell_type": "markdown",
   "metadata": {},
   "source": [
    "# Individual Blog (Ian):\n",
    "---\n",
    "## **Major**:\n",
    "- Built API (api/competition.py) that fetches username based on a JWT authentication token from login, amount of time taken from fetching through api/competition/timer, and word given.\n",
    "\n",
    "- Made model file (model/competition.py) to create a seperate db tables inside of user_management.db to store information with fetched username, time, and given word, storing information inside database.\n",
    "\n",
    "- Developed Deployment Blog with port 8203, overview of setup on backend page \n",
    "(scribble.stu.nighthawkcodingsociety.com) [Assistant Deployment Admin]\n",
    "\n",
    "- Made navigation bar and nav to main homepage, styled individual page + deployment blog, changed readability on site. \n",
    "[Frontend Developer]\n",
    "\n",
    "## **Minor**:\n",
    "- Changed overall JWT Token request from jwt_authorize.py to fetch user_name details and formatting.\n",
    "\n",
    "- Adjusted port on makefile, put files such as /sass-cache/ into .gitignore to help with github deployment.\n",
    "\n",
    "- Made issue on 4.2, 4.3 about fault tolerances and computing models (Sequential, Parallel, Distributed, Efficiency Comparisons).\n",
    "\n"
   ]
  }
 ],
 "metadata": {
  "language_info": {
   "name": "python"
  }
 },
 "nbformat": 4,
 "nbformat_minor": 2
}
