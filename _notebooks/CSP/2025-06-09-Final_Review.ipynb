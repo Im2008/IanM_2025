{
 "cells": [
  {
   "cell_type": "markdown",
   "id": "2912e6b7",
   "metadata": {},
   "source": [
    "---\n",
    "title: Final Review\n",
    "layout: post\n",
    "type: issues\n",
    "description: Final Review and Reflection of Trimester 3\n",
    "permalink: csp/final_review\n",
    "Author: Ian\n",
    "toc: true\n",
    "comments: true\n",
    "---"
   ]
  },
  {
   "cell_type": "markdown",
   "id": "bc9ab4ba",
   "metadata": {},
   "source": [
    "## GameHub:\n",
    "\n",
    "GameHub is an interactive lobby with 8 talkable NPC's teleporting you to 8 different worlds. Each world has 3 games with an overall total of a variety of 24 games that players can interact and ideate in. \n",
    "\n",
    "## Qualities\n",
    "\n",
    "- **Organized and Efficient**  \n",
    "  I manage my time well and prioritize tasks to meet deadlines without compromising quality.  \n",
    "  I keep my codebase clean, follow naming conventions, and maintain proper documentation to ensure scalability and team collaboration.\n",
    "\n",
    "- **Frontend Developer**  \n",
    "  Skilled in HTML, CSS, JavaScript, and modern frameworks like React.  \n",
    "  I focus on creating user-friendly interfaces that are responsive, accessible, and visually appealing.  \n",
    "  I also have experience integrating APIs and optimizing performance.\n",
    "\n",
    "- **Problem Solver**  \n",
    "  I enjoy tackling challenges and thinking critically to find efficient solutions.  \n",
    "  Whether it's debugging a tricky issue or designing a new feature, I approach problems analytically and with persistence, often breaking them down into manageable parts.\n",
    "\n",
    "\n",
    "## Homework Success:\n",
    "\n",
    "[Showcasing GameHub in Night At The Museum](https://im2008.github.io/IanM_2025/organize)\n",
    "\n",
    "## N@TM GameHub Showcase\n",
    "\n",
    "[Showcasing GameHub in Night At The Museum](https://github.com/Im2008/IanM_2025/issues/21)\n",
    "\n",
    "\n"
   ]
  },
  {
   "cell_type": "markdown",
   "id": "1d90d3c3",
   "metadata": {},
   "source": []
  }
 ],
 "metadata": {
  "language_info": {
   "name": "python"
  }
 },
 "nbformat": 4,
 "nbformat_minor": 5
}
