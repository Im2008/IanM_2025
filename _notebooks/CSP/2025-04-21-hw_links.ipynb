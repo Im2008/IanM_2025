{
 "cells": [
  {
   "cell_type": "markdown",
   "id": "d9751c81",
   "metadata": {},
   "source": [
    "---\n",
    "title: HW Links\n",
    "layout: post\n",
    "type: issues\n",
    "courses: { csp: {week: 9} }\n",
    "search_exclude: true\n",
    "description: CSP Homework Links for Collegeboard\n",
    "permalink: csp/hw_links\n",
    "Author: Ian\n",
    "toc: true\n",
    "comments: true\n",
    "---"
   ]
  },
  {
   "cell_type": "markdown",
   "id": "b5eb95f9",
   "metadata": {},
   "source": [
    "## Introduction to the AP Computer Science Principles Exam and the College Board\n",
    "\n",
    "The **AP Computer Science Principles (CSP) Exam** is a college-level assessment offered to high school students through the **College Board**, an organization that develops and manages standardized tests and advanced placement programs in the United States. The CSP exam is designed to introduce students to the foundational concepts of computer science and help them develop skills in problem-solving, data analysis, algorithms, and the ethical impact of computing.\n",
    "\n",
    "The **College Board** is a nonprofit organization best known for administering the SAT and Advanced Placement (AP) exams. Its AP program allows students to take rigorous courses in high school that can potentially earn them college credit or advanced placement in college courses. The CSP exam, in particular, emphasizes creativity, collaboration, and real-world applications of computing to encourage broader participation in the field of computer science.\n"
   ]
  },
  {
   "cell_type": "markdown",
   "id": "3d78c935",
   "metadata": {},
   "source": [
    "# HW Hacks\n",
    "<a href = \"{{site.baseurl}}/csp/big_o\">Big O Collegeboard HW Hack</a>\n",
    "<a href = \"{{site.baseurl}}/csp/random_value\">Random Value Collegeboard HW Hack</a>\n",
    "<a href = \"{{site.baseurl}}/csp/list_filtering\">List Filtering Collegeboard HW Hack</a>\n",
    "<a href = \"{{site.baseurl}}/csp/binary_search\">Binary Search Collegeboard HW Hack</a>\n",
    "<a href = \"{{site.baseurl}}/csp/safe_computing\">Safe Computing Collegeboard HW Hack</a>\n"
   ]
  }
 ],
 "metadata": {
  "language_info": {
   "name": "python"
  }
 },
 "nbformat": 4,
 "nbformat_minor": 5
}
