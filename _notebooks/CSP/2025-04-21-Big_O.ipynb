{
 "cells": [
  {
   "cell_type": "markdown",
   "id": "858c46a3",
   "metadata": {},
   "source": [
    "---\n",
    "title: Big O HW Blog\n",
    "layout: post\n",
    "type: issues\n",
    "courses: { csp: {week: 9} }\n",
    "search_exclude: true\n",
    "description: Big O Hacks and Homework blog\n",
    "permalink: csp/big_o\n",
    "Author: Ian\n",
    "toc: true\n",
    "comments: true\n",
    "---"
   ]
  },
  {
   "cell_type": "markdown",
   "id": "860798df",
   "metadata": {},
   "source": [
    "\n",
    "---\n",
    "\n",
    "# Homework Hack 1:"
   ]
  },
  {
   "cell_type": "code",
   "execution_count": null,
   "id": "c1b6cbf3",
   "metadata": {},
   "outputs": [],
   "source": [
    "import random, time\n",
    "\n",
    "# Generate random list\n",
    "arr = [random.randint(1, 1000) for _ in range(100)]\n",
    "\n",
    "def bubble_sort(arr):\n",
    "    n = len(arr)\n",
    "    for i in range(n):\n",
    "        for j in range(0, n - i - 1):\n",
    "            if arr[j] > arr[j + 1]:\n",
    "                arr[j], arr[j + 1] = arr[j + 1], arr[j]\n",
    "\n",
    "def merge_sort(arr):\n",
    "    if len(arr) > 1:\n",
    "        mid = len(arr)//2\n",
    "        left = arr[:mid]\n",
    "        right = arr[mid:]\n",
    "        merge_sort(left)\n",
    "        merge_sort(right)\n",
    "        i = j = k = 0\n",
    "        while i < len(left) and j < len(right):\n",
    "            if left[i] < right[j]:\n",
    "                arr[k] = left[i]\n",
    "                i += 1\n",
    "            else:\n",
    "                arr[k] = right[j]\n",
    "                j += 1\n",
    "            k += 1\n",
    "        while i < len(left):\n",
    "            arr[k] = left[i]\n",
    "            i += 1\n",
    "            k += 1\n",
    "        while j < len(right):\n",
    "            arr[k] = right[j]\n",
    "            j += 1\n",
    "            k += 1\n",
    "\n",
    "# Time them\n",
    "arr1 = arr[:]\n",
    "arr2 = arr[:]\n",
    "\n",
    "start = time.time()\n",
    "bubble_sort(arr1)\n",
    "bubble_time = time.time() - start\n",
    "\n",
    "start = time.time()\n",
    "merge_sort(arr2)\n",
    "merge_time = time.time() - start\n",
    "\n",
    "print(f\"Bubble Sort Time: {bubble_time:.5f} sec\")\n",
    "print(f\"Merge Sort Time: {merge_time:.5f} sec\")\n"
   ]
  }
 ],
 "metadata": {
  "language_info": {
   "name": "python"
  }
 },
 "nbformat": 4,
 "nbformat_minor": 5
}
