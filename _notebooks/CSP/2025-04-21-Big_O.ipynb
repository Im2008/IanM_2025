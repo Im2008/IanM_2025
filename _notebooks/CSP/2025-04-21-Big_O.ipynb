{
 "cells": [
  {
   "cell_type": "markdown",
   "id": "858c46a3",
   "metadata": {},
   "source": [
    "---\n",
    "title: Big O HW Blog\n",
    "layout: post\n",
    "type: issues\n",
    "courses: { csp: {week: 9} }\n",
    "search_exclude: true\n",
    "description: Big O Hacks and Homework blog\n",
    "permalink: csp/big_o\n",
    "Author: Ian\n",
    "toc: true\n",
    "comments: true\n",
    "---"
   ]
  },
  {
   "cell_type": "markdown",
   "id": "98ca7509",
   "metadata": {},
   "source": [
    "# Algorithm Efficiency Hacks\n",
    "\n",
    "## Popcorn Hack – Even/Odd Check Challenge\n",
    "\n",
    "**Prompt: Pick the TWO most efficient strategies**\n",
    "\n",
    "- Divide the number by 2 and check if the result is a whole number – Not ideal (Floating point operations = slightly less efficient).\n",
    "- **Check if the last digit is 0, 2, 4, 6, or 8 manually – O(1)**\n",
    "- **Use the modulus operator `% 2 == 0` – O(1)**\n",
    "- Convert to string and check last character – O(n) in the worst case.\n",
    "- Subtract 2 repeatedly – O(n) (very slow for large numbers).\n",
    "- Generate a list of all even numbers – O(n) and memory wasteful.\n",
    "\n",
    "**Answer:**\n",
    "\n",
    "- Use the modulus operator\n",
    "- Check the last digit manually\n",
    "\n",
    "**Explanation:**  \n",
    "Both the modulus operator and digit-check method are constant time operations (O(1)), making them highly efficient. They avoid unnecessary iteration or conversion, optimizing performance and memory.\n",
    "\n",
    "---\n",
    "\n",
    "## String Reversal Challenge\n",
    "\n",
    "**Which method is better for performance-critical apps?**\n",
    "\n",
    "- Speed-Optimized (`s[::-1]`) is faster (O(n)) but uses more memory.\n",
    "- Memory-Optimized is slower due to `insert(0, c)` being O(n) per character, leading to O(n²).\n",
    "\n",
    "**Answer:**  \n",
    "Use the speed-optimized slicing method (`s[::-1]`) in performance-critical apps. It has linear time complexity and is highly optimized in Python's internal C implementation, even if it uses more memory.\n"
   ]
  },
  {
   "cell_type": "markdown",
   "id": "e60f181e",
   "metadata": {},
   "source": [
    "\n",
    "---\n",
    "\n",
    "# Popcorn Hack:\n"
   ]
  },
  {
   "cell_type": "code",
   "execution_count": 4,
   "id": "b4730667",
   "metadata": {},
   "outputs": [
    {
     "name": "stdout",
     "output_type": "stream",
     "text": [
      "Linear comparisons: 1394583 Time: 0.2737619876861572\n",
      "Binary comparisons: 24 Time: 0.00018072128295898438\n"
     ]
    }
   ],
   "source": [
    "import time\n",
    "import random\n",
    "\n",
    "def linear_search(arr, target):\n",
    "    comparisons = 0\n",
    "    for i in range(len(arr)):\n",
    "        comparisons += 1\n",
    "        if arr[i] == target:\n",
    "            return comparisons\n",
    "    return comparisons\n",
    "\n",
    "def binary_search(arr, target):\n",
    "    left, right = 0, len(arr) - 1\n",
    "    comparisons = 0\n",
    "    while left <= right:\n",
    "        comparisons += 1\n",
    "        mid = (left + right) // 2\n",
    "        if arr[mid] == target:\n",
    "            return comparisons\n",
    "        elif arr[mid] < target:\n",
    "            left = mid + 1\n",
    "        else:\n",
    "            right = mid - 1\n",
    "    return comparisons\n",
    "\n",
    "arr = list(range(1, 10000001))\n",
    "target = random.choice(arr)\n",
    "\n",
    "start = time.time()\n",
    "linear = linear_search(arr, target)\n",
    "print(\"Linear comparisons:\", linear, \"Time:\", time.time() - start)\n",
    "\n",
    "start = time.time()\n",
    "binary = binary_search(arr, target)\n",
    "print(\"Binary comparisons:\", binary, \"Time:\", time.time() - start)\n"
   ]
  },
  {
   "cell_type": "markdown",
   "id": "860798df",
   "metadata": {},
   "source": [
    "\n",
    "---\n",
    "\n",
    "# Homework Hack 1:"
   ]
  },
  {
   "cell_type": "code",
   "execution_count": 2,
   "id": "c1b6cbf3",
   "metadata": {},
   "outputs": [
    {
     "name": "stdout",
     "output_type": "stream",
     "text": [
      "Bubble Sort Time: 0.00325 sec\n",
      "Merge Sort Time: 0.00125 sec\n"
     ]
    }
   ],
   "source": [
    "import random, time\n",
    "\n",
    "# Generate random list\n",
    "arr = [random.randint(1, 1000) for _ in range(100)]\n",
    "\n",
    "def bubble_sort(arr):\n",
    "    n = len(arr)\n",
    "    for i in range(n):\n",
    "        for j in range(0, n - i - 1):\n",
    "            if arr[j] > arr[j + 1]:\n",
    "                arr[j], arr[j + 1] = arr[j + 1], arr[j]\n",
    "\n",
    "def merge_sort(arr):\n",
    "    if len(arr) > 1:\n",
    "        mid = len(arr)//2\n",
    "        left = arr[:mid]\n",
    "        right = arr[mid:]\n",
    "        merge_sort(left)\n",
    "        merge_sort(right)\n",
    "        i = j = k = 0\n",
    "        while i < len(left) and j < len(right):\n",
    "            if left[i] < right[j]:\n",
    "                arr[k] = left[i]\n",
    "                i += 1\n",
    "            else:\n",
    "                arr[k] = right[j]\n",
    "                j += 1\n",
    "            k += 1\n",
    "        while i < len(left):\n",
    "            arr[k] = left[i]\n",
    "            i += 1\n",
    "            k += 1\n",
    "        while j < len(right):\n",
    "            arr[k] = right[j]\n",
    "            j += 1\n",
    "            k += 1\n",
    "\n",
    "# Time them\n",
    "arr1 = arr[:]\n",
    "arr2 = arr[:]\n",
    "\n",
    "start = time.time()\n",
    "bubble_sort(arr1)\n",
    "bubble_time = time.time() - start\n",
    "\n",
    "start = time.time()\n",
    "merge_sort(arr2)\n",
    "merge_time = time.time() - start\n",
    "\n",
    "print(f\"Bubble Sort Time: {bubble_time:.5f} sec\")\n",
    "print(f\"Merge Sort Time: {merge_time:.5f} sec\")\n"
   ]
  },
  {
   "cell_type": "markdown",
   "id": "14302d39",
   "metadata": {},
   "source": [
    "**Final Answer:** Merge Sort consistently outperforms Bubble Sort because it minimizes comparisons through its divide-and-conquer approach. Bubble Sort performs many unnecessary comparisons and swaps, especially on large datasets."
   ]
  },
  {
   "cell_type": "markdown",
   "id": "a8a14de3",
   "metadata": {},
   "source": [
    "\n",
    "---\n",
    "\n",
    "# Homework Hack 2:"
   ]
  },
  {
   "cell_type": "code",
   "execution_count": 3,
   "id": "5fb85645",
   "metadata": {},
   "outputs": [
    {
     "name": "stdout",
     "output_type": "stream",
     "text": [
      "Linear Search Comparisons: 7474\n",
      "Binary Search Comparisons: 17\n"
     ]
    }
   ],
   "source": [
    "import random\n",
    "\n",
    "def linear_search(arr, target):\n",
    "    count = 0\n",
    "    for i in range(len(arr)):\n",
    "        count += 1\n",
    "        if arr[i] == target:\n",
    "            return count\n",
    "    return -1\n",
    "\n",
    "def binary_search(arr, target):\n",
    "    left, right = 0, len(arr) - 1\n",
    "    count = 0\n",
    "    while left <= right:\n",
    "        count += 1\n",
    "        mid = (left + right) // 2\n",
    "        if arr[mid] == target:\n",
    "            return count\n",
    "        elif arr[mid] < target:\n",
    "            left = mid + 1\n",
    "        else:\n",
    "            right = mid - 1\n",
    "    return -1\n",
    "\n",
    "arr = list(range(1, 100001))\n",
    "target = random.choice(arr)\n",
    "\n",
    "linear_comparisons = linear_search(arr, target)\n",
    "binary_comparisons = binary_search(arr, target)\n",
    "\n",
    "print(f\"Linear Search Comparisons: {linear_comparisons}\")\n",
    "print(f\"Binary Search Comparisons: {binary_comparisons}\")\n"
   ]
  },
  {
   "cell_type": "markdown",
   "id": "f69e0473",
   "metadata": {},
   "source": [
    "**Final Answers:**\n",
    "\n",
    "- Binary Search is faster because it cuts the search space in half each time, giving it O(log n) performance.\n",
    "\n",
    "- If run on an unsorted list, Binary Search may fail or return incorrect results—it requires sorted input."
   ]
  }
 ],
 "metadata": {
  "kernelspec": {
   "display_name": "venv",
   "language": "python",
   "name": "python3"
  },
  "language_info": {
   "codemirror_mode": {
    "name": "ipython",
    "version": 3
   },
   "file_extension": ".py",
   "mimetype": "text/x-python",
   "name": "python",
   "nbconvert_exporter": "python",
   "pygments_lexer": "ipython3",
   "version": "3.10.12"
  }
 },
 "nbformat": 4,
 "nbformat_minor": 5
}
