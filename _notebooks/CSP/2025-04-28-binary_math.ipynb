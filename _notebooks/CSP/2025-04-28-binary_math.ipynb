{
 "cells": [
  {
   "cell_type": "markdown",
   "id": "a8d1f947",
   "metadata": {},
   "source": [
    "---\n",
    "title: Binary Math\n",
    "layout: post\n",
    "type: issues\n",
    "courses: { csp: {week: 9} }\n",
    "search_exclude: true\n",
    "description: Binary Math Code\n",
    "permalink: csp/binary_math\n",
    "Author: Ian\n",
    "toc: true\n",
    "comments: true\n",
    "---"
   ]
  },
  {
   "cell_type": "markdown",
   "id": "f806f628",
   "metadata": {},
   "source": [
    "# Popcorn Hacks\n",
    "\n",
    "## Popcorn Hack 1\n",
    "\n",
    "**Problem:**  \n",
    "What will be the result of this expression?\n",
    "\n",
    "```python\n",
    "True or False and False\n",
    "```\n",
    "\n",
    "**Answer:**\n",
    "- According to operator precedence, `and` is evaluated before `or`.\n",
    "- `False and False` evaluates to `False`.\n",
    "- `True or False` evaluates to `True`.\n",
    "\n",
    "**Final Result:**\n",
    "```\n",
    "True\n",
    "```\n",
    "\n",
    "---\n",
    "\n",
    "## Popcorn Hack 2\n",
    "\n",
    "**Problem:**  \n",
    "What will be the result of this expression?\n",
    "\n",
    "```python\n",
    "not True and False\n",
    "```\n",
    "\n",
    "**Answer:**\n",
    "- `not True` evaluates to `False`.\n",
    "- `False and False` evaluates to `False`.\n",
    "\n",
    "**Final Result:**\n",
    "```\n",
    "False\n",
    "```\n",
    "\n",
    "---\n",
    "\n",
    "## Popcorn Hack 3\n",
    "\n",
    "**Problem:**  \n",
    "What will be the result of this expression?\n",
    "\n",
    "```python\n",
    "True or False and not False\n",
    "```\n",
    "\n",
    "**Answer:**\n",
    "- `not False` evaluates to `True`.\n",
    "- `False and True` evaluates to `False`.\n",
    "- `True or False` evaluates to `True`.\n",
    "\n",
    "**Final Result:**\n",
    "```\n",
    "True\n"
   ]
  },
  {
   "cell_type": "markdown",
   "id": "a6133169",
   "metadata": {},
   "source": [
    "# Homework Hack 1: Binary Converter\n",
    "\n",
    "## Decimal to Binary Converter Function:"
   ]
  },
  {
   "cell_type": "code",
   "execution_count": 1,
   "id": "56f526a5",
   "metadata": {},
   "outputs": [
    {
     "name": "stdout",
     "output_type": "stream",
     "text": [
      "1010\n",
      "-101\n"
     ]
    }
   ],
   "source": [
    "def decimal_to_binary(decimal):\n",
    "    if decimal == 0:\n",
    "        return \"0\"\n",
    "    is_negative = decimal < 0\n",
    "    decimal = abs(decimal)\n",
    "    binary = \"\"\n",
    "    while decimal > 0:\n",
    "        binary = str(decimal % 2) + binary\n",
    "        decimal = decimal // 2\n",
    "    if is_negative:\n",
    "        return \"-\" + binary\n",
    "    return binary\n",
    "\n",
    "# Example\n",
    "print(decimal_to_binary(10))   # Output: 1010\n",
    "print(decimal_to_binary(-5))   # Output: -101\n"
   ]
  },
  {
   "cell_type": "markdown",
   "id": "33c746a7",
   "metadata": {},
   "source": [
    "## Binary to Decimal Converter Function:"
   ]
  },
  {
   "cell_type": "code",
   "execution_count": 2,
   "id": "e4d260eb",
   "metadata": {},
   "outputs": [
    {
     "name": "stdout",
     "output_type": "stream",
     "text": [
      "10\n",
      "-5\n"
     ]
    }
   ],
   "source": [
    "def binary_to_decimal(binary_str):\n",
    "    is_negative = binary_str.startswith(\"-\")\n",
    "    if is_negative:\n",
    "        binary_str = binary_str[1:]\n",
    "    decimal = 0\n",
    "    for index, digit in enumerate(reversed(binary_str)):\n",
    "        if digit == \"1\":\n",
    "            decimal += 2 ** index\n",
    "    if is_negative:\n",
    "        return -decimal\n",
    "    return decimal\n",
    "\n",
    "# Example\n",
    "print(binary_to_decimal(\"1010\"))   # Output: 10\n",
    "print(binary_to_decimal(\"-101\"))   # Output: -5\n"
   ]
  },
  {
   "cell_type": "markdown",
   "id": "86f6373f",
   "metadata": {},
   "source": [
    "# Homework Hack 2: Difficulty Level Checker\n",
    "## Corrected Code:"
   ]
  },
  {
   "cell_type": "code",
   "execution_count": 3,
   "id": "33959c0a",
   "metadata": {},
   "outputs": [
    {
     "name": "stdout",
     "output_type": "stream",
     "text": [
      "Difficulty set to: hard\n"
     ]
    }
   ],
   "source": [
    "import time\n",
    "\n",
    "difficulty = input(\"Enter difficulty (easy, medium, hard): \").lower().strip()\n",
    "\n",
    "# Corrected logic: use 'and' instead of 'or'\n",
    "while difficulty not in [\"easy\", \"medium\", \"hard\"]:\n",
    "    print(\"Please enter a valid difficulty level.\")\n",
    "    difficulty = input(\"Enter difficulty (easy, medium, hard): \").lower().strip()\n",
    "    time.sleep(0.5)\n",
    "\n",
    "print(\"Difficulty set to:\", difficulty)\n"
   ]
  },
  {
   "cell_type": "markdown",
   "id": "6bfa42d9",
   "metadata": {},
   "source": [
    "**Explanation of Fix:**\n",
    "\n",
    "The original `while` condition was wrong because it used `or`.  \n",
    "Using `not in` with a list correctly checks if the entered difficulty is not one of the valid options.\n"
   ]
  }
 ],
 "metadata": {
  "kernelspec": {
   "display_name": "venv",
   "language": "python",
   "name": "python3"
  },
  "language_info": {
   "codemirror_mode": {
    "name": "ipython",
    "version": 3
   },
   "file_extension": ".py",
   "mimetype": "text/x-python",
   "name": "python",
   "nbconvert_exporter": "python",
   "pygments_lexer": "ipython3",
   "version": "3.10.12"
  }
 },
 "nbformat": 4,
 "nbformat_minor": 5
}
