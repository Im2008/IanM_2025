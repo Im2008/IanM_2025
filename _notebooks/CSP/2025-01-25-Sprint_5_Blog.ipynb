{
 "cells": [
  {
   "cell_type": "raw",
   "metadata": {
    "vscode": {
     "languageId": "raw"
    }
   },
   "source": [
    "---\n",
    "title: Sprint 5.1 Blog\n",
    "layout: post\n",
    "type: issues\n",
    "courses: { csp: {week: 9} }\n",
    "description: Sprint 5 Blog v2\n",
    "permalink: csp/sprint5/Sprint_5_Blog\n",
    "toc: true\n",
    "comments: true\n",
    "---"
   ]
  },
  {
   "cell_type": "markdown",
   "metadata": {},
   "source": [
    "**Group Purpose:** The purpose of our group’s program is to create a multiplayer drawing and guessing game inspired by Scribble.io. This program allows players to take turns drawing while others guess the word or phrase being illustrated. The goal is to provide an entertaining and interactive way for people to engage in creative gameplay, fostering collaboration, quick thinking, and creativity.\n",
    "\n",
    "**Individual Feature:** Timer management and saving/loading drawings.\n",
    "\n",
    "## 1. List Requests, Use of Lists, Dictionaries, and Database\n",
    "## List Requests\n",
    "## The Stats API supports the following requests:\n",
    "\n",
    "\n",
    "*GET /api/competition: Retrieve timer status\n",
    "POST /api/competition: Add's data: name, timer, drawings_drawn\n",
    "PUT /api/competition: Update existing competition data\n",
    "DELETE /api/competition/<user_name>/<Guess>: Delete a specific stat entry.\n",
    "\n",
    "\n",
    "## Use of Lists and Dictionaries\n",
    "We use lists to handle multiple competition entries such as timer and drawing data, and dictionaries for individual data. These dictionaries are converted for a JSON response.\n",
    "\n",
    "## Example:\n"
   ]
  },
  {
   "cell_type": "code",
   "execution_count": null,
   "metadata": {},
   "outputs": [],
   "source": [
    "times = Time.query.all()\n",
    "return jsonify([time.read() for time in times]), 200\n",
    "\n",
    "\n",
    "data = request.json\n",
    "new_time = Time(\n",
    " users_name=data.get('users_name'),\n",
    " timer=data.get('timer'),\n",
    " amount_drawn=data.get('amount_drawn')\n",
    ")\n",
    "db.session"
   ]
  },
  {
   "cell_type": "markdown",
   "metadata": {},
   "source": [
    "## 2. Formatting Response Data (JSON) from API into DOM\n",
    "We use Flask’s jsonify function to format the response data as JSON. In the frontend, we use JavaScript to fetch the JSON data from the API and update the DOM. This involves converting the JSON response into HTML elements to display the statistics.\n",
    "\n",
    "\n",
    "## Example:"
   ]
  },
  {
   "cell_type": "code",
   "execution_count": null,
   "metadata": {},
   "outputs": [],
   "source": [
    "@competitors_api.route('/api/timer_status', methods=['GET'])\n",
    "def timer_status():\n",
    "   \"\"\"API endpoint to get the current timer status.\"\"\"\n",
    "   return jsonify(timer_state)"
   ]
  },
  {
   "cell_type": "markdown",
   "metadata": {},
   "source": [
    "## 3. Database Queries\n",
    "We use SQLAlchemy ORM to interact with the database. SQLAlchemy provides methods to query the database and return results as Python lists. Foor instance, I can pull the\n",
    "\n",
    "## Example:"
   ]
  },
  {
   "cell_type": "code",
   "execution_count": null,
   "metadata": {},
   "outputs": [],
   "source": [
    "time_entry.users_name = data.get('users_name', time_entry.users_name)\n",
    "time_entry.timer = data.get('timer', time_entry.timer)\n",
    "time_entry.amount_drawn = data.get('amount_drawn', time_entry.amount_drawn)"
   ]
  },
  {
   "cell_type": "markdown",
   "metadata": {},
   "source": [
    "## 4. CRUD Methods in Class\n",
    "We define methods in the StatsEntry class to perform CRUD operations on the database:\n",
    "\n",
    "Create: Adds a new entry to the database.\n",
    "Read: Converts a database entry to a dictionary.\n",
    "Update: Updates entry fields with new data.\n",
    "Delete: Removes an entry from the database.\n",
    "\n",
    "## Example:"
   ]
  },
  {
   "cell_type": "code",
   "execution_count": null,
   "metadata": {},
   "outputs": [],
   "source": [
    "class Time(db.Model):\n",
    "   __tablename__ = 'timer_data_table'\n",
    "\n",
    "\n",
    "   id = db.Column(db.Integer, primary_key=True)\n",
    "   users_name = db.Column(db.String(255), nullable=False)\n",
    "   timer = db.Column(db.String(255), nullable=False)\n",
    "   amount_drawn = db.Column(db.Integer, nullable=False)\n",
    "\n",
    "\n",
    "   def __init__(self, users_name, timer, amount_drawn):\n",
    "       self.users_name = users_name\n",
    "       self.timer = timer\n",
    "       self.amount_drawn = amount_drawn\n",
    "\n",
    "\n",
    "   def create(self):\n",
    "       try:\n",
    "           db.session.add(self)\n",
    "           db.session.commit()\n",
    "           print(f\"Time Added: {self.users_name} - Timer: '{self.timer}' - Amount Drawn: {self.amount_drawn}\")\n",
    "       except IntegrityError:\n",
    "           db.session.rollback()\n",
    "           return None\n",
    "       return self\n",
    "\n",
    "\n",
    "   def read(self):\n",
    "       return {\n",
    "         \"id\": self.id,\n",
    "           \"users_name\": self.users_name,\n",
    "           \"timer\": self.timer,\n",
    "           \"amount_drawn\": self.amount_drawn\n",
    "       }\n",
    "\n",
    "\n",
    "   def delete(self):\n",
    "       db.session.delete(self)\n",
    "       db.session.commit()"
   ]
  },
  {
   "cell_type": "markdown",
   "metadata": {},
   "source": [
    "## 5. Algorithmic Code Request\n",
    "We define API endpoints to handle different types of requests. For example, the PUT request to update a statistics entry involves checking if the entry exists, updating the score if it does, or creating a new entry if it doesn’t.\n",
    "\n",
    "## Example:"
   ]
  },
  {
   "cell_type": "code",
   "execution_count": null,
   "metadata": {},
   "outputs": [],
   "source": [
    "@competitors_api.route('/api/times/<int:time_id>', methods=['PUT'])\n",
    "def modify_time(time_id):\n",
    "   time_entry = Time.query.get(time_id)\n",
    "   if not time_entry:\n",
    "       return jsonify({\"error\": \"Time entry not found\"}), 404\n",
    "  \n",
    "   if request.method == 'PUT':\n",
    "       data = request.json\n",
    "       time_entry.users_name = data.get('users_name', time_entry.users_name)\n",
    "       time_entry.timer = data.get('timer', time_entry.timer)\n",
    "       time_entry.amount_drawn = data.get('amount_drawn', time_entry.amount_drawn)\n",
    "       db.session.commit()\n",
    "       return jsonify({\"message\": \"Time entry updated successfully\"})"
   ]
  },
  {
   "cell_type": "markdown",
   "metadata": {},
   "source": [
    "## 6. API Class\n",
    "We use Flask’s Blueprint to define the API routes. The stats_api blueprint handles the GET, POST, PUT, and DELETE methods, allowing us to organize the API endpoints and their implementations.\n",
    "\n",
    "## Example:"
   ]
  },
  {
   "cell_type": "code",
   "execution_count": null,
   "metadata": {},
   "outputs": [],
   "source": [
    "competition_api = Blueprint('competition_api', __name__)\n",
    "\n",
    "\n",
    "@competition_api.route('/api/competition', methods=['GET'])\n",
    "def timer_status():\n",
    "   # stuff\n",
    "\n",
    "\n",
    "@competition_api.route('/api/competition', methods=['POST'])\n",
    "def start_timer():\n",
    "   # stuff\n",
    "\n",
    "\n",
    "@competition_api.route('/api/competition', methods=['PUT'])\n",
    "def modify_time():\n",
    "   # stuff\n",
    "\n",
    "\n",
    "@competition_api.route('/api/competition/<profile_name>/<game_name>', methods=['DELETE'])\n",
    "def modify_time(name, timer, drawings_drawn):\n",
    "   # stuff"
   ]
  },
  {
   "cell_type": "markdown",
   "metadata": {},
   "source": [
    "## 7. Method with Sequencing, Selection, and Iteration\n",
    "The modify_time  method contains sequencing (steps to process the request), selection (conditional checks), and iteration (looping through data if needed). This updates a current entry, or deletes and recreates a new one.\n",
    "\n",
    "## Example:"
   ]
  },
  {
   "cell_type": "code",
   "execution_count": null,
   "metadata": {},
   "outputs": [],
   "source": [
    "@competitors_api.route('/api/times/<int:time_id>', methods=['PUT', 'DELETE'])\n",
    "def modify_time(time_id):\n",
    "   time_entry = Time.query.get(time_id)\n",
    "   if not time_entry:\n",
    "       return jsonify({\"error\": \"Time entry not found\"}), 404\n",
    "  \n",
    "   if request.method == 'PUT':\n",
    "       data = request.json\n",
    "       time_entry.users_name = data.get('users_name', time_entry.users_name)\n",
    "       time_entry.timer = data.get('timer', time_entry.timer)\n",
    "       time_entry.amount_drawn = data.get('amount_drawn', time_entry.amount_drawn)\n",
    "       db.session.commit()\n",
    "       return jsonify({\"message\": \"Time entry updated successfully\"})\n"
   ]
  },
  {
   "cell_type": "markdown",
   "metadata": {},
   "source": [
    "8. Parameters and Return Type\n",
    "The modify_time method takes JSON data as input and returns a JSON response. The input data includes name, timer, and amount_drawn. The response is formatted using jsonify to ensure it is returned as a JSON object.\n",
    "\n",
    "\n",
    "## Example:"
   ]
  },
  {
   "cell_type": "code",
   "execution_count": null,
   "metadata": {},
   "outputs": [],
   "source": [
    "@competitors_api.route('/api/times/<int:time_id>', methods=['PUT', 'DELETE'])\n",
    "def modify_time(time_id):\n",
    "   time_entry = Time.query.get(time_id)\n",
    "   if not time_entry:\n",
    "       return jsonify({\"error\": \"Time entry not found\"}), 404\n",
    "  \n",
    "   if request.method == 'PUT':\n",
    "       data = request.json\n",
    "       time_entry.users_name = data.get('users_name', time_entry.users_name)\n",
    "       time_entry.timer = data.get('timer', time_entry.timer)\n",
    "       time_entry.amount_drawn = data.get('amount_drawn', time_entry.amount_drawn)\n",
    "       db.session.commit()\n",
    "       return jsonify({\"message\": \"Time entry updated successfully\"})\n",
    "  \n",
    "   if request.method == 'DELETE':\n",
    "       db.session.delete(time_entry)\n",
    "       db.session.commit()\n",
    "       return jsonify({\"message\": \"Time entry deleted successfully\"})"
   ]
  },
  {
   "cell_type": "markdown",
   "metadata": {},
   "source": [
    "## 9. Call to Algorithm Request\n",
    "On Frontend, we fetch the API to make requests to the backend. For example, to submit a score, we send a PUT request to the user_name, timer data, and amount_drawn. The response is handled by checking each instance of the data and updating the DOM accordingly. If the request is successful, we update the timer, amount_drawn, and user data; If not, it proceeds an error message."
   ]
  }
 ],
 "metadata": {
  "language_info": {
   "name": "python"
  }
 },
 "nbformat": 4,
 "nbformat_minor": 2
}
