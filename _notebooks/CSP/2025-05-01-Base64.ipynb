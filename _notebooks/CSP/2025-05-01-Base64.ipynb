{
 "cells": [
  {
   "cell_type": "markdown",
   "id": "91023267",
   "metadata": {},
   "source": [
    "---\n",
    "title: Base 64 HW Hack\n",
    "layout: post\n",
    "type: issues\n",
    "courses: { csp: {week: 9} }\n",
    "search_exclude: true\n",
    "description: Base 64 Homework Hack\n",
    "permalink: csp/base_64\n",
    "Author: Ian\n",
    "toc: true\n",
    "comments: true\n",
    "---"
   ]
  },
  {
   "cell_type": "markdown",
   "id": "9a047f8b",
   "metadata": {},
   "source": [
    "# Popcorn Hacks Answers\n",
    "\n",
    "## 1. Which image format is best for logos and transparency?\n",
    "**Answer:** PNG  \n",
    "PNG supports transparency and uses lossless compression, making it ideal for logos and graphics with sharp edges.\n",
    "\n",
    "## 2. Which format loses quality to make the file size smaller?\n",
    "**Answer:** JPG  \n",
    "JPG uses lossy compression, which reduces file size at the cost of some image quality.\n",
    "\n",
    "## 3. Which format is used for simple animations, like memes?\n",
    "**Answer:** GIF  \n",
    "GIF supports simple animations and limited transparency, and is commonly used for memes.\n",
    "\n",
    "## 4. Decode This! What does this Base64 string decode to? `U1Q=`\n",
    "**Answer:** ST  \n",
    "Explanation:  \n",
    "- Binary equivalent of \"U1Q=\" is split into 6-bit chunks.  \n",
    "- These map to ASCII characters:  \n",
    "  - `U` → 20  \n",
    "  - `1` → 53  \n",
    "  - `Q` → 16  \n",
    "  - Together they represent the string \"ST\"."
   ]
  },
  {
   "cell_type": "markdown",
   "id": "cd6f51e8",
   "metadata": {},
   "source": [
    "## Homework Hack 1: Mood Board with Hex Colors"
   ]
  },
  {
   "cell_type": "raw",
   "id": "763f8a78",
   "metadata": {
    "vscode": {
     "languageId": "raw"
    }
   },
   "source": [
    "<!DOCTYPE html>\n",
    "<html lang=\"en\">\n",
    "<head>\n",
    "  <meta charset=\"UTF-8\">\n",
    "  <title>Mood Board</title>\n",
    "  <style>\n",
    "    body { font-family: Arial, sans-serif; margin: 0; padding: 20px; }\n",
    "    .color-block {\n",
    "      width: 100%;\n",
    "      height: 100px;\n",
    "      margin-bottom: 10px;\n",
    "      color: white;\n",
    "      display: flex;\n",
    "      align-items: center;\n",
    "      justify-content: center;\n",
    "      font-weight: bold;\n",
    "      font-size: 1.2em;\n",
    "    }\n",
    "  </style>\n",
    "</head>\n",
    "<body>\n",
    "  <h1>My Mood Board</h1>\n",
    "  <div class=\"color-block\" style=\"background-color: #FF6F61;\">#FF6F61 – Energetic</div>\n",
    "  <div class=\"color-block\" style=\"background-color: #6B5B95;\">#6B5B95 – Calm</div>\n",
    "  <div class=\"color-block\" style=\"background-color: #88B04B;\">#88B04B – Grounded</div>\n",
    "  <div class=\"color-block\" style=\"background-color: #F7CAC9;\">#F7CAC9 – Soft</div>\n",
    "  <div class=\"color-block\" style=\"background-color: #92A8D1;\">#92A8D1 – Cool</div>\n",
    "</body>\n",
    "</html>\n"
   ]
  },
  {
   "cell_type": "markdown",
   "id": "55b1f080",
   "metadata": {},
   "source": [
    "<!DOCTYPE html>\n",
    "<html lang=\"en\">\n",
    "<head>\n",
    "  <meta charset=\"UTF-8\">\n",
    "  <title>Mood Board</title>\n",
    "  <style>\n",
    "    body { font-family: Arial, sans-serif; margin: 0; padding: 20px; }\n",
    "    .color-block {\n",
    "      width: 100%;\n",
    "      height: 100px;\n",
    "      margin-bottom: 10px;\n",
    "      color: white;\n",
    "      display: flex;\n",
    "      align-items: center;\n",
    "      justify-content: center;\n",
    "      font-weight: bold;\n",
    "      font-size: 1.2em;\n",
    "    }\n",
    "  </style>\n",
    "</head>\n",
    "<body>\n",
    "  <h1>My Mood Board</h1>\n",
    "  <div class=\"color-block\" style=\"background-color: #FF6F61;\">#FF6F61 – Energetic</div>\n",
    "  <div class=\"color-block\" style=\"background-color: #6B5B95;\">#6B5B95 – Calm</div>\n",
    "  <div class=\"color-block\" style=\"background-color: #88B04B;\">#88B04B – Grounded</div>\n",
    "  <div class=\"color-block\" style=\"background-color: #F7CAC9;\">#F7CAC9 – Soft</div>\n",
    "  <div class=\"color-block\" style=\"background-color: #92A8D1;\">#92A8D1 – Cool</div>\n",
    "</body>\n",
    "</html>\n"
   ]
  },
  {
   "cell_type": "markdown",
   "id": "0536dfbf",
   "metadata": {
    "vscode": {
     "languageId": "raw"
    }
   },
   "source": [
    "## Homework Hack 2: Embed a Profile Pic as Base64"
   ]
  },
  {
   "cell_type": "raw",
   "id": "54678147",
   "metadata": {
    "vscode": {
     "languageId": "raw"
    }
   },
   "source": [
    "<!DOCTYPE html>\n",
    "<html lang=\"en\">\n",
    "<head>\n",
    "  <meta charset=\"UTF-8\">\n",
    "  <title>My Base64 Image</title>\n",
    "</head>\n",
    "<body>\n",
    "  <h2>My Profile Pic in Base64</h2>\n",
    "  <img src=\"data:image/png;base64,iVBORw0KGgoAAAANSUhEUgAAA... (your Base64 string here) ...\" alt=\"Profile Pic\" width=\"200\">\n",
    "</body>\n",
    "</html>"
   ]
  },
  {
   "cell_type": "markdown",
   "id": "2a7229e2",
   "metadata": {},
   "source": [
    "<!DOCTYPE html>\n",
    "<html lang=\"en\">\n",
    "<head>\n",
    "  <meta charset=\"UTF-8\">\n",
    "  <title>My Base64 Image</title>\n",
    "</head>\n",
    "<body>\n",
    "  <h2>My Profile Pic in Base64</h2>\n",
    "  <img src=\"{{site.baseurl}}/images/mario.png\" alt=\"Profile Pic\" width=\"200\">\n",
    "</body>\n",
    "</html>"
   ]
  }
 ],
 "metadata": {
  "kernelspec": {
   "display_name": "venv",
   "language": "python",
   "name": "python3"
  },
  "language_info": {
   "codemirror_mode": {
    "name": "ipython",
    "version": 3
   },
   "file_extension": ".py",
   "mimetype": "text/x-python",
   "name": "python",
   "nbconvert_exporter": "python",
   "pygments_lexer": "ipython3",
   "version": "3.10.12"
  }
 },
 "nbformat": 4,
 "nbformat_minor": 5
}
