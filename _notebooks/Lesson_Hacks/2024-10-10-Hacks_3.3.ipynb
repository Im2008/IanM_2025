{
 "cells": [
  {
   "cell_type": "markdown",
   "metadata": {},
   "source": [
    "---\n",
    "toc: false\n",
    "comments: true\n",
    "layout: post\n",
    "title: 3.3 HACKS\n",
    "description: Student led teaching on Abstraction. Teaching how various data types can use abstraction for computational efficiency.\n",
    "permalink: /Lesson_Hacks/Hacks_3-3\n",
    "---"
   ]
  },
  {
   "cell_type": "code",
   "execution_count": 1,
   "metadata": {},
   "outputs": [
    {
     "name": "stdout",
     "output_type": "stream",
     "text": [
      "The sum of all integers is: 75\n"
     ]
    }
   ],
   "source": [
    "# Python Popcorn 1\n",
    "\n",
    "# Hack #1\n",
    "# Define a list of integers\n",
    "numbers = [5, 10, 15, 20, 25]\n",
    "\n",
    "# Compute the sum of all integers\n",
    "total_sum = sum(numbers)\n",
    "\n",
    "# Print the sum\n",
    "print(\"The sum of all integers is:\", total_sum)"
   ]
  },
  {
   "cell_type": "code",
   "execution_count": 3,
   "metadata": {},
   "outputs": [
    {
     "name": "stdout",
     "output_type": "stream",
     "text": [
      "The total cost for 2 bags of popcorn is: $20.00\n"
     ]
    }
   ],
   "source": [
    "# Hack #2\n",
    "# Prompt the user to enter the price per bag of popcorn\n",
    "price_per_bag = float(input(\"Enter the price per bag of popcorn: \"))\n",
    "\n",
    "# Prompt the user to enter the number of bags they want to buy\n",
    "num_bags = int(input(\"Enter the number of bags you want to buy: \"))\n",
    "\n",
    "# Calculate the total cost\n",
    "total_cost = price_per_bag * num_bags\n",
    "\n",
    "# Print the total cost\n",
    "print(f\"The total cost for {num_bags} bags of popcorn is: ${total_cost:.2f}\")\n"
   ]
  },
  {
   "cell_type": "code",
   "execution_count": 4,
   "metadata": {},
   "outputs": [
    {
     "name": "stdout",
     "output_type": "stream",
     "text": [
      "The sum of all numbers from 1 to 2 is: 3\n"
     ]
    }
   ],
   "source": [
    "# Hack #3\n",
    "# Prompt the user to enter a number n\n",
    "n = int(input(\"Enter a number n: \"))\n",
    "\n",
    "# Initialize total_sum to 0\n",
    "total_sum = 0\n",
    "\n",
    "# Use a loop to iterate from 1 to n and add each number to total_sum\n",
    "for i in range(1, n+1):\n",
    "    total_sum += i\n",
    "\n",
    "# Print the total_sum\n",
    "print(f\"The sum of all numbers from 1 to {n} is:\", total_sum)"
   ]
  },
  {
   "cell_type": "code",
   "execution_count": 6,
   "metadata": {},
   "outputs": [
    {
     "name": "stdout",
     "output_type": "stream",
     "text": [
      "Arithmetic mean: 11.5\n",
      "Median: 11.5\n"
     ]
    }
   ],
   "source": [
    "# Staticstics make it easier to analyze data and find statistical values:\n",
    "import statistics\n",
    "\n",
    "# Function to compute the arithmetic mean and median\n",
    "def compute_mean_median(numbers):\n",
    "    # Compute the arithmetic mean\n",
    "    mean = sum(numbers) / len(numbers)\n",
    "    \n",
    "    # Compute the median using the statistics module\n",
    "    median = statistics.median(numbers)\n",
    "    \n",
    "    # Print both results\n",
    "    print(f\"Arithmetic mean: {mean}\")\n",
    "    print(f\"Median: {median}\")\n",
    "\n",
    "# Defined list of integers\n",
    "numbers_list = [5, 12, 7, 9, 20, 11, 15, 13]\n",
    "\n",
    "# Call the function\n",
    "compute_mean_median(numbers_list)"
   ]
  },
  {
   "cell_type": "code",
   "execution_count": 8,
   "metadata": {},
   "outputs": [
    {
     "name": "stdout",
     "output_type": "stream",
     "text": [
      "Collatz sequence: [27, 82, 41, 124, 62, 31, 94, 47, 142, 71, 214, 107, 322, 161, 484, 242, 121, 364, 182, 91, 274, 137, 412, 206, 103, 310, 155, 466, 233, 700, 350, 175, 526, 263, 790, 395, 1186, 593, 1780, 890, 445, 1336, 668, 334, 167, 502, 251, 754, 377, 1132, 566, 283, 850, 425, 1276, 638, 319, 958, 479, 1438, 719, 2158, 1079, 3238, 1619, 4858, 2429, 7288, 3644, 1822, 911, 2734, 1367, 4102, 2051, 6154, 3077, 9232, 4616, 2308, 1154, 577, 1732, 866, 433, 1300, 650, 325, 976, 488, 244, 122, 61, 184, 92, 46, 23, 70, 35, 106, 53, 160, 80, 40, 20, 10, 5, 16, 8, 4, 2, 1]\n"
     ]
    }
   ],
   "source": [
    "\n",
    "# Function to generate the Collatz sequence\n",
    "def collatz_sequence(a):\n",
    "    # Initialize an array to store the sequence\n",
    "    sequence = [a]\n",
    "    \n",
    "    # Iterate until the number becomes 1\n",
    "    while a != 1:\n",
    "        if a % 2 == 0:\n",
    "            # If the number is even, divide by 2\n",
    "            a = a // 2\n",
    "        else:\n",
    "            # If the number is odd, multiply by 3 and add 1\n",
    "            a = 3 * a + 1\n",
    "        \n",
    "        # Append the result to the sequence array\n",
    "        sequence.append(a)\n",
    "    \n",
    "    # Print the sequence\n",
    "    print(\"Collatz sequence:\", sequence)\n",
    "\n",
    "# Call the function with a starting number\n",
    "collatz_sequence(27)"
   ]
  },
  {
   "cell_type": "code",
   "execution_count": null,
   "metadata": {
    "vscode": {
     "languageId": "javascript"
    }
   },
   "outputs": [],
   "source": [
    "function arithmeticOperations() {\n",
    "    // Basic arithmetic operations: +, -, *, /\n",
    "    let result = (8 * 4) - 10 + (2 / 1);  // This expression uses multiplication, subtraction, addition, and division\n",
    "    return result;\n",
    "}\n",
    "\n",
    "// Call the function\n",
    "console.log(\"The result of the arithmetic operations is: \" + arithmeticOperations());"
   ]
  },
  {
   "cell_type": "code",
   "execution_count": null,
   "metadata": {
    "vscode": {
     "languageId": "javascript"
    }
   },
   "outputs": [],
   "source": [
    "function makeSandwich() {\n",
    "    console.log(\"Let's make a sandwich!\");\n",
    "\n",
    "    // Asking for ingredients\n",
    "    let bread = prompt(\"What type of bread would you like?\");\n",
    "    let meat = prompt(\"What type of meat would you like?\");\n",
    "    let veggies = prompt(\"What type of vegetables would you like?\");\n",
    "    let condiments = prompt(\"What condiments would you like?\");\n",
    "\n",
    "    // Giving the sandwich a name\n",
    "    let sandwichName = prompt(\"Give your sandwich a name:\");\n",
    "\n",
    "    // Printing the sandwich description\n",
    "    console.log(`You made a '${sandwichName}' sandwich with ${bread} bread, ${meat}, ${veggies}, and ${condiments}.`);\n",
    "}\n",
    "\n",
    "// Call the function\n",
    "makeSandwich();"
   ]
  },
  {
   "cell_type": "code",
   "execution_count": null,
   "metadata": {
    "vscode": {
     "languageId": "javascript"
    }
   },
   "outputs": [],
   "source": [
    "function chooseYourPath() {\n",
    "    console.log(\"Welcome to the Choose Your Own Path Game!\");\n",
    "\n",
    "    // Introduction to the story\n",
    "    console.log(\"\\nYou see a fight at school. Do you:\");\n",
    "    console.log(\"1. Break it up\");\n",
    "    console.log(\"2. Mind your own business\");\n",
    "\n",
    "    // First choice\n",
    "    let choice1 = prompt(\"Choose 1 or 2:\");\n",
    "\n",
    "    if (choice1 === \"1\") {\n",
    "        console.log(\"\\nYou decide to break up the fight.\");\n",
    "        console.log(\"The principal sees you and thanks you for intervening.\");\n",
    "        console.log(\"You're now respected by your peers.\");\n",
    "\n",
    "        // Second choice in the 'break it up' path\n",
    "        console.log(\"\\nBut now the people who were fighting are mad at you. Do you:\");\n",
    "        console.log(\"1. Apologize to them\");\n",
    "        console.log(\"2. Ignore them and move on\");\n",
    "\n",
    "        let choice2 = prompt(\"Choose 1 or 2:\");\n",
    "\n",
    "        if (choice2 === \"1\") {\n",
    "            console.log(\"\\nYou apologize and they forgive you. Peace is restored!\");\n",
    "        } else {\n",
    "            console.log(\"\\nYou ignore them, but they keep causing trouble. Eventually, you have to deal with them again.\");\n",
    "        }\n",
    "\n",
    "    } else {\n",
    "        console.log(\"\\nYou decide to mind your own business.\");\n",
    "        console.log(\"The fight escalates, and the school gets involved. You feel guilty for not stepping in.\");\n",
    "\n",
    "        // Second choice in the 'mind your own business' path\n",
    "        console.log(\"\\nDo you:\");\n",
    "        console.log(\"1. Talk to the principal about the incident\");\n",
    "        console.log(\"2. Pretend like nothing happened\");\n",
    "\n",
    "        let choice2 = prompt(\"Choose 1 or 2:\");\n",
    "\n",
    "        if (choice2 === \"1\") {\n",
    "            console.log(\"\\nThe principal appreciates your honesty, and you help prevent future fights.\");\n",
    "        } else {\n",
    "            console.log(\"\\nYou keep pretending, but eventually, rumors spread, and you feel worse about not helping.\");\n",
    "        }\n",
    "    }\n",
    "}\n",
    "\n",
    "// Call the function\n",
    "chooseYourPath();"
   ]
  },
  {
   "cell_type": "code",
   "execution_count": null,
   "metadata": {
    "vscode": {
     "languageId": "javascript"
    }
   },
   "outputs": [],
   "source": [
    "// Function to compute the GCD using the Euclidean algorithm\n",
    "function gcd(a, b) {\n",
    "    while (b !== 0) {\n",
    "        let temp = b;\n",
    "        b = a % b;\n",
    "        a = temp;\n",
    "    }\n",
    "    return a;\n",
    "}\n",
    "\n",
    "// Function to compute the LCM\n",
    "function lcm(a, b) {\n",
    "    return (a * b) / gcd(a, b); // LCM is calculated by (a * b) / GCD\n",
    "}\n",
    "\n",
    "// Main function to return both GCD and LCM as an object\n",
    "function computeGcdAndLcm(a, b) {\n",
    "    return {\n",
    "        gcd: gcd(a, b),\n",
    "        lcm: lcm(a, b)\n",
    "    };\n",
    "}\n",
    "\n",
    "// Test the function\n",
    "let a = 12;\n",
    "let b = 18;\n",
    "let result = computeGcdAndLcm(a, b);\n",
    "console.log(`GCD of ${a} and ${b} is: ${result.gcd}`);\n",
    "console.log(`LCM of ${a} and ${b} is: ${result.lcm}`);\n",
    "// Helper function to check if a number is prime\n",
    "function isPrime(num) {\n",
    "    if (num <= 1) return false;\n",
    "    for (let i = 2; i <= Math.sqrt(num); i++) {\n",
    "        if (num % i === 0) return false;\n",
    "    }\n",
    "    return true;\n",
    "}\n",
    "\n",
    "// Function to return an array of prime factors\n",
    "function primeFactors(n) {\n",
    "    let factors = [];\n",
    "    let divisor = 2;\n",
    "\n",
    "    while (n >= 2) {\n",
    "        if (n % divisor === 0) {\n",
    "            factors.push(divisor);\n",
    "            n = n / divisor;\n",
    "        } else {\n",
    "            divisor++;\n",
    "        }\n",
    "    }\n",
    "    return factors;\n",
    "}\n",
    "\n",
    "// Main function to return prime factors or simply n if it's prime\n",
    "function getPrimeFactors(n) {\n",
    "    if (isPrime(n)) {\n",
    "        return [n];\n",
    "    } else {\n",
    "        return primeFactors(n);\n",
    "    }\n",
    "}\n",
    "\n",
    "// Test the function\n",
    "let n = 56;\n",
    "console.log(`Prime factors of ${n} are: `, getPrimeFactors(n));\n",
    "\n",
    "n = 17;  // A prime number\n",
    "console.log(`Prime factors of ${n} are: `, getPrimeFactors(n));\n"
   ]
  }
 ],
 "metadata": {
  "kernelspec": {
   "display_name": ".venv",
   "language": "python",
   "name": "python3"
  },
  "language_info": {
   "codemirror_mode": {
    "name": "ipython",
    "version": 3
   },
   "file_extension": ".py",
   "mimetype": "text/x-python",
   "name": "python",
   "nbconvert_exporter": "python",
   "pygments_lexer": "ipython3",
   "version": "3.10.12"
  }
 },
 "nbformat": 4,
 "nbformat_minor": 2
}
