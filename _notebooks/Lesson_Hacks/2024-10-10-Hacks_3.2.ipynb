{
 "cells": [
  {
   "cell_type": "markdown",
   "metadata": {},
   "source": [
    "---\n",
    "toc: false\n",
    "comments: true\n",
    "layout: post\n",
    "title: 3.2 HACKS\n",
    "description: Student led teaching on Abstraction. Teaching how various data types can use abstraction for computational efficiency.\n",
    "permalink: /csp/big-idea/p4/3-2/ /Lesson_Hacks/Hacks_3-2\n",
    "---"
   ]
  },
  {
   "cell_type": "code",
   "execution_count": null,
   "metadata": {
    "vscode": {
     "languageId": "plaintext"
    }
   },
   "outputs": [],
   "source": [
    " MY LESSON MY LESSON MY LESSON MY LESSON MY LESSON MY LESSON MY LESSON MY LESSON MY LESSON MY LESSON MY LESSON MY LESSONMY LESSON MY LESSON MY LESSON MY LESSON MY LESSON MY LESSONMY LESSON MY LESSON MY LESSON MY LESSON MY LESSON MY LESSONMY LESSON MY LESSON MY LESSON MY LESSON MY LESSON MY LESSONMY LESSON MY LESSON MY LESSON MY LESSON MY LESSON MY LESSONMY LESSON MY LESSON MY LESSON MY LESSON MY LESSON MY LESSONMY LESSON MY LESSON MY LESSON MY LESSON MY LESSON MY LESSONMY LESSON MY LESSON MY LESSON MY LESSON MY LESSON MY LESSONMY LESSON MY LESSON MY LESSON MY LESSON MY LESSON MY LESSONMY LESSON MY LESSON MY LESSON MY LESSON MY LESSON MY LESSONMY LESSON MY LESSON MY LESSON MY LESSON MY LESSON MY LESSONMY LESSON MY LESSON MY LESSON MY LESSON MY LESSON MY LESSONMY LESSON MY LESSON MY LESSON MY LESSON MY LESSON MY LESSONMY LESSON MY LESSON MY LESSON MY LESSON MY LESSON MY LESSONMY LESSON MY LESSON MY LESSON MY LESSON MY LESSON MY LESSON"
   ]
  }
 ],
 "metadata": {
  "language_info": {
   "name": "python"
  }
 },
 "nbformat": 4,
 "nbformat_minor": 2
}
