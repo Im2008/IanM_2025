{
 "cells": [
  {
   "cell_type": "markdown",
   "metadata": {},
   "source": [
    "---\n",
    "toc: false\n",
    "comments: true\n",
    "layout: post\n",
    "title: 3.10B HACKS\n",
    "description: Student led teaching on Abstraction. Teaching how various data types can use abstraction for computational efficiency.\n",
    "permalink: /Lesson_Hacks/Hacks_3-10B\n",
    "---"
   ]
  },
  {
   "cell_type": "markdown",
   "metadata": {},
   "source": [
    "python popcorn hack 1;"
   ]
  },
  {
   "cell_type": "code",
   "execution_count": 1,
   "metadata": {},
   "outputs": [
    {
     "name": "stdout",
     "output_type": "stream",
     "text": [
      "Reversed list: [5, 4, 3, 2, 1]\n"
     ]
    }
   ],
   "source": [
    "# Creating an array (list) of numbers\n",
    "my_list = [1, 2, 3, 4, 5]\n",
    "\n",
    "# Reversing the list using the reverse() method\n",
    "my_list.reverse()\n",
    "\n",
    "# Printing the reversed list\n",
    "print(\"Reversed list:\", my_list)\n"
   ]
  },
  {
   "cell_type": "markdown",
   "metadata": {},
   "source": [
    "popcorn hack 2;"
   ]
  },
  {
   "cell_type": "code",
   "execution_count": 2,
   "metadata": {},
   "outputs": [
    {
     "name": "stdout",
     "output_type": "stream",
     "text": [
      "Updated list: [1, 2, 3, 4, 5]\n"
     ]
    }
   ],
   "source": [
    "# Initial array (list)\n",
    "my_list = [2, 3, 4, 5]\n",
    "\n",
    "# Using the spread operator (via list concatenation) to simulate unshift\n",
    "new_item = 1\n",
    "my_list = [new_item] + my_list\n",
    "\n",
    "# Printing the updated list\n",
    "print(\"Updated list:\", my_list)\n"
   ]
  },
  {
   "cell_type": "markdown",
   "metadata": {},
   "source": [
    "popcorn hack 3;"
   ]
  },
  {
   "cell_type": "code",
   "execution_count": 3,
   "metadata": {},
   "outputs": [
    {
     "name": "stdout",
     "output_type": "stream",
     "text": [
      "List after unshift: [1, 2, 3, 4]\n"
     ]
    }
   ],
   "source": [
    "# Initial list\n",
    "my_list = [2, 3, 4]\n",
    "\n",
    "# Simulate unshift() using slicing\n",
    "my_list = [1, *my_list]\n",
    "\n",
    "print(\"List after unshift:\", my_list)\n"
   ]
  },
  {
   "cell_type": "markdown",
   "metadata": {},
   "source": [
    "pop hack 4;"
   ]
  },
  {
   "cell_type": "code",
   "execution_count": 4,
   "metadata": {},
   "outputs": [
    {
     "name": "stdout",
     "output_type": "stream",
     "text": [
      "Even numbers: [2, 4, 6, 8, 10]\n"
     ]
    }
   ],
   "source": [
    "# Initial array\n",
    "numbers = [1, 2, 3, 4, 5, 6, 7, 8, 9, 10]\n",
    "\n",
    "# Use filter() to get only even numbers\n",
    "even_numbers = list(filter(lambda x: x % 2 == 0, numbers))\n",
    "\n",
    "print(\"Even numbers:\", even_numbers)\n"
   ]
  },
  {
   "cell_type": "markdown",
   "metadata": {},
   "source": [
    "popcorn hack 5;"
   ]
  },
  {
   "cell_type": "code",
   "execution_count": 5,
   "metadata": {},
   "outputs": [
    {
     "name": "stdout",
     "output_type": "stream",
     "text": [
      "List after insertion: ['apple', 'banana', 'grape', 'orange']\n"
     ]
    }
   ],
   "source": [
    "# Initial list\n",
    "my_list = ['apple', 'banana', 'orange']\n",
    "\n",
    "# Insert values using negative indexes\n",
    "my_list.insert(-1, 'grape')\n",
    "\n",
    "print(\"List after insertion:\", my_list)\n"
   ]
  },
  {
   "cell_type": "markdown",
   "metadata": {},
   "source": [
    "popcorn hack 6;"
   ]
  },
  {
   "cell_type": "code",
   "execution_count": 6,
   "metadata": {},
   "outputs": [
    {
     "name": "stdout",
     "output_type": "stream",
     "text": [
      "Extended list: [1, 2, 3, 4, 5, 6]\n"
     ]
    }
   ],
   "source": [
    "# Two initial lists\n",
    "list1 = [1, 2, 3]\n",
    "list2 = [4, 5, 6]\n",
    "\n",
    "# Extend list1 with list2\n",
    "list1.extend(list2)\n",
    "\n",
    "print(\"Extended list:\", list1)"
   ]
  },
  {
   "cell_type": "markdown",
   "metadata": {},
   "source": [
    "Main Hack 1;"
   ]
  },
  {
   "cell_type": "code",
   "execution_count": 7,
   "metadata": {},
   "outputs": [
    {
     "name": "stdout",
     "output_type": "stream",
     "text": [
      "List after removing three items: ['orange', 'pear']\n"
     ]
    }
   ],
   "source": [
    "# Initial list\n",
    "my_list = ['apple', 'banana', 'orange', 'grape', 'pear']\n",
    "\n",
    "# Remove using remove()\n",
    "my_list.remove('banana')\n",
    "\n",
    "# Remove using pop()\n",
    "my_list.pop(2)\n",
    "\n",
    "# Remove using del\n",
    "del my_list[0]\n",
    "\n",
    "print(\"List after removing three items:\", my_list)\n"
   ]
  },
  {
   "cell_type": "markdown",
   "metadata": {},
   "source": [
    "main hack 2;"
   ]
  },
  {
   "cell_type": "code",
   "execution_count": 8,
   "metadata": {},
   "outputs": [
    {
     "name": "stdout",
     "output_type": "stream",
     "text": [
      "Even numbers: [10, 20, 30]\n"
     ]
    }
   ],
   "source": [
    "# List of numbers\n",
    "numbers = [10, 15, 20, 25, 30, 35]\n",
    "\n",
    "# Filter even numbers\n",
    "even_numbers = [x for x in numbers if x % 2 == 0]\n",
    "\n",
    "print(\"Even numbers:\", even_numbers)"
   ]
  },
  {
   "cell_type": "markdown",
   "metadata": {},
   "source": [
    "main hack 3;"
   ]
  },
  {
   "cell_type": "code",
   "execution_count": 9,
   "metadata": {},
   "outputs": [
    {
     "name": "stdout",
     "output_type": "stream",
     "text": [
      "Student grades: [85, 90]\n",
      "Student grades: [90]\n"
     ]
    }
   ],
   "source": [
    "# List of student grades\n",
    "grades = []\n",
    "\n",
    "def add_grade(grade):\n",
    "    grades.append(grade)\n",
    "\n",
    "def remove_grade(grade):\n",
    "    if grade in grades:\n",
    "        grades.remove(grade)\n",
    "    else:\n",
    "        print(\"Grade not found\")\n",
    "\n",
    "def view_grades():\n",
    "    print(\"Student grades:\", grades)\n",
    "\n",
    "# Example usage\n",
    "add_grade(85)\n",
    "add_grade(90)\n",
    "view_grades()\n",
    "remove_grade(85)\n",
    "view_grades()"
   ]
  },
  {
   "cell_type": "markdown",
   "metadata": {},
   "source": [
    "main hack 4;"
   ]
  },
  {
   "cell_type": "code",
   "execution_count": 10,
   "metadata": {},
   "outputs": [
    {
     "name": "stdout",
     "output_type": "stream",
     "text": [
      "Sum of numbers: 150\n",
      "Maximum number: 50\n",
      "Minimum number: 10\n"
     ]
    }
   ],
   "source": [
    "# List of numbers\n",
    "numbers = [10, 20, 30, 40, 50]\n",
    "\n",
    "# Basic operations\n",
    "print(\"Sum of numbers:\", sum(numbers))\n",
    "print(\"Maximum number:\", max(numbers))\n",
    "print(\"Minimum number:\", min(numbers))\n"
   ]
  },
  {
   "cell_type": "markdown",
   "metadata": {},
   "source": [
    "main hack 5;"
   ]
  },
  {
   "cell_type": "code",
   "execution_count": null,
   "metadata": {
    "vscode": {
     "languageId": "javascript"
    }
   },
   "outputs": [],
   "source": [
    "let myArray = [1, 2, 3, 4, 5];\n",
    "console.log(\"Array:\", myArray);"
   ]
  },
  {
   "cell_type": "markdown",
   "metadata": {},
   "source": [
    "main hack 6;"
   ]
  },
  {
   "cell_type": "code",
   "execution_count": null,
   "metadata": {
    "vscode": {
     "languageId": "javascript"
    }
   },
   "outputs": [],
   "source": [
    "myArray.forEach(function(value) {\n",
    "    console.log(\"Value:\", value);\n",
    "});"
   ]
  },
  {
   "cell_type": "markdown",
   "metadata": {},
   "source": [
    "main hack 7;"
   ]
  },
  {
   "cell_type": "code",
   "execution_count": null,
   "metadata": {
    "vscode": {
     "languageId": "javascript"
    }
   },
   "outputs": [],
   "source": [
    "myArray.push(6); // Add value\n",
    "console.log(\"Array after adding 6:\", myArray);\n",
    "\n",
    "myArray.pop(); // Remove last value\n",
    "console.log(\"Array after removing last element:\", myArray);"
   ]
  },
  {
   "cell_type": "markdown",
   "metadata": {},
   "source": [
    "main hack 8;"
   ]
  },
  {
   "cell_type": "code",
   "execution_count": 12,
   "metadata": {},
   "outputs": [
    {
     "name": "stdout",
     "output_type": "stream",
     "text": [
      "Count of even numbers: 4\n"
     ]
    }
   ],
   "source": [
    "# List of numbers\n",
    "numbers = [1, 2, 3, 4, 5, 6, 7, 8]\n",
    "\n",
    "# Count even numbers\n",
    "even_count = sum(1 for num in numbers if num % 2 == 0)\n",
    "\n",
    "print(\"Count of even numbers:\", even_count)"
   ]
  }
 ],
 "metadata": {
  "kernelspec": {
   "display_name": ".venv",
   "language": "python",
   "name": "python3"
  },
  "language_info": {
   "codemirror_mode": {
    "name": "ipython",
    "version": 3
   },
   "file_extension": ".py",
   "mimetype": "text/x-python",
   "name": "python",
   "nbconvert_exporter": "python",
   "pygments_lexer": "ipython3",
   "version": "3.10.12"
  }
 },
 "nbformat": 4,
 "nbformat_minor": 2
}
