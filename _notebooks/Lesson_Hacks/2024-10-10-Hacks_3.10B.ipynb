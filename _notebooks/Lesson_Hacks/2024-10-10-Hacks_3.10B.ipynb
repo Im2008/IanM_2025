{
 "cells": [
  {
   "cell_type": "markdown",
   "metadata": {},
   "source": [
    "---\n",
    "toc: false\n",
    "comments: true\n",
    "layout: post\n",
    "title: 3.10 HACKS\n",
    "description: Student led teaching on Abstraction. Teaching how various data types can use abstraction for computational efficiency.\n",
    "permalink: /Lesson_Hacks/Hacks_3-10\n",
    "---"
   ]
  },
  {
   "cell_type": "markdown",
   "metadata": {},
   "source": [
    "python popcorn hack 1;"
   ]
  },
  {
   "cell_type": "code",
   "execution_count": 1,
   "metadata": {},
   "outputs": [
    {
     "name": "stdout",
     "output_type": "stream",
     "text": [
      "Items in the list:\n",
      "hello\n",
      "world\n",
      "hello\n"
     ]
    }
   ],
   "source": [
    "# Popcorn Hack: Accessing and Deleting Elements\n",
    "\n",
    "# Create an empty list\n",
    "a_list = []\n",
    "\n",
    "# Function to add items to the list\n",
    "def add_items():\n",
    "    while True:\n",
    "        user_input = input(\"Enter an item to add to the list (or type 'done' to finish): \")\n",
    "        if user_input.lower() == 'done':  # Check if user wants to finish\n",
    "            break\n",
    "        a_list.append(user_input)  # Append item to the list\n",
    "\n",
    "# Function to display each item in the list\n",
    "def display_items():\n",
    "    print(\"Items in the list:\")\n",
    "    for item in a_list:  # Iterate through each item in the list\n",
    "        print(item)\n",
    "\n",
    "# Execute the functions\n",
    "add_items()\n",
    "display_items()\n"
   ]
  },
  {
   "cell_type": "markdown",
   "metadata": {},
   "source": [
    "javascript popcorn hack 1;"
   ]
  },
  {
   "cell_type": "code",
   "execution_count": null,
   "metadata": {
    "vscode": {
     "languageId": "javascript"
    }
   },
   "outputs": [],
   "source": [
    "// Popcorn Hack: Accessing and Deleting Elements\n",
    "\n",
    "let aList = []; // Create an empty array\n",
    "let input;      // Variable to store user input\n",
    "\n",
    "// Function to simulate user adding items to the list\n",
    "function addItems() {\n",
    "    do {\n",
    "        input = prompt(\"Enter an item to add to the list (or type 'done' to finish):\");\n",
    "        if (input !== 'done') {\n",
    "            aList.push(input);  // Add the item to the list\n",
    "        }\n",
    "    } while (input !== 'done');\n",
    "\n",
    "    console.log(\"Items in the list:\", aList);\n",
    "}\n",
    "\n",
    "// Function to display the second element if it exists\n",
    "function displaySecondElement() {\n",
    "    if (aList.length >= 2) {\n",
    "        console.log(\"The second element is:\", aList[1]);\n",
    "    } else {\n",
    "        console.log(\"There is no second element.\");\n",
    "    }\n",
    "}\n",
    "\n",
    "// Function to delete the second element if it exists and display updated list\n",
    "function deleteSecondElement() {\n",
    "    if (aList.length >= 2) {\n",
    "        aList.splice(1, 1);  // Remove the second element (at index 1)\n",
    "        console.log(\"Second element deleted. Updated list:\", aList);\n",
    "    } else {\n",
    "        console.log(\"No second element to delete.\");\n",
    "    }\n",
    "}\n",
    "\n",
    "// Execute the functions\n",
    "addItems();\n",
    "displaySecondElement();\n",
    "deleteSecondElement();"
   ]
  },
  {
   "cell_type": "markdown",
   "metadata": {},
   "source": [
    "python popcorn hack 2;"
   ]
  },
  {
   "cell_type": "code",
   "execution_count": 2,
   "metadata": {},
   "outputs": [
    {
     "name": "stdout",
     "output_type": "stream",
     "text": [
      "Total number of favorite foods: 7\n",
      "Favorite foods: ['Pizza', 'Sushi', 'Ice Cream', 'Tacos', 'Pasta', 'Burgers', 'Salad']\n"
     ]
    }
   ],
   "source": [
    "# Popcorn Hack: Assigning Values to a List and Finding Its Length\n",
    "\n",
    "# Create a list of five favorite foods\n",
    "favorite_foods = [\"Pizza\", \"Sushi\", \"Ice Cream\", \"Tacos\", \"Pasta\"]\n",
    "\n",
    "# Add two more items to the list\n",
    "favorite_foods.append(\"Burgers\")  # Adding the first new item\n",
    "favorite_foods.append(\"Salad\")    # Adding the second new item\n",
    "\n",
    "# Find and print the total number of items in the list\n",
    "total_items = len(favorite_foods)\n",
    "print(\"Total number of favorite foods:\", total_items)\n",
    "\n",
    "# Optional: Print the list of favorite foods\n",
    "print(\"Favorite foods:\", favorite_foods)"
   ]
  },
  {
   "cell_type": "markdown",
   "metadata": {},
   "source": [
    "javascript pop hack 2;"
   ]
  },
  {
   "cell_type": "code",
   "execution_count": null,
   "metadata": {
    "vscode": {
     "languageId": "javascript"
    }
   },
   "outputs": [],
   "source": [
    "// Popcorn Hack: Look for the element \"banana\" in the list \"fruits\"\n",
    "\n",
    "let fruits = [\"apple\", \"banana\", \"orange\"];\n",
    "\n",
    "// Check if \"banana\" is in the fruits array\n",
    "if (fruits.includes(\"banana\")) {\n",
    "    console.log(\"Banana is in the list!\");\n",
    "} else {\n",
    "    console.log(\"Banana is not in the list.\");\n",
    "}"
   ]
  },
  {
   "cell_type": "markdown",
   "metadata": {},
   "source": [
    "Homework Hacks:"
   ]
  },
  {
   "cell_type": "code",
   "execution_count": null,
   "metadata": {
    "vscode": {
     "languageId": "javascript"
    }
   },
   "outputs": [],
   "source": [
    "// Hack: Use if else statements for an efficient way to determine the presence of a certain element\n",
    "\n",
    "let numbers = [10, 20, 30, 40, 50];\n",
    "let elementToFind = 30;\n",
    "\n",
    "if (numbers.includes(elementToFind)) {\n",
    "    console.log(elementToFind + \" is in the array.\");\n",
    "} else {\n",
    "    console.log(elementToFind + \" is not in the array.\");\n",
    "}"
   ]
  },
  {
   "cell_type": "code",
   "execution_count": 3,
   "metadata": {},
   "outputs": [
    {
     "name": "stdout",
     "output_type": "stream",
     "text": [
      "The second element in the list is: 20\n"
     ]
    }
   ],
   "source": [
    "# Python program that creates a list of numbers and prints the second element\n",
    "numbers = [10, 20, 30, 40, 50]\n",
    "print(\"The second element in the list is:\", numbers[1])\n"
   ]
  },
  {
   "cell_type": "code",
   "execution_count": null,
   "metadata": {
    "vscode": {
     "languageId": "javascript"
    }
   },
   "outputs": [],
   "source": [
    "// JavaScript program that creates an array of numbers and logs the second element\n",
    "let numbers = [10, 20, 30, 40, 50];\n",
    "console.log(\"The second element in the array is:\", numbers[1]);\n"
   ]
  },
  {
   "cell_type": "code",
   "execution_count": 4,
   "metadata": {},
   "outputs": [
    {
     "name": "stdout",
     "output_type": "stream",
     "text": [
      "'Finish homework' has been added to your to-do list.\n",
      "'Go grocery shopping' has been added to your to-do list.\n",
      "Your To-Do List:\n",
      "1. Finish homework\n",
      "2. Go grocery shopping\n",
      "'Finish homework' has been removed from your to-do list.\n",
      "Your To-Do List:\n",
      "1. Go grocery shopping\n"
     ]
    }
   ],
   "source": [
    "# Python program to create a to-do list where users can add, remove, and view items\n",
    "to_do_list = []\n",
    "\n",
    "def display_list():\n",
    "    if to_do_list:\n",
    "        print(\"Your To-Do List:\")\n",
    "        for index, item in enumerate(to_do_list, start=1):\n",
    "            print(f\"{index}. {item}\")\n",
    "    else:\n",
    "        print(\"Your to-do list is empty.\")\n",
    "\n",
    "def add_item(item):\n",
    "    to_do_list.append(item)\n",
    "    print(f\"'{item}' has been added to your to-do list.\")\n",
    "\n",
    "def remove_item(item):\n",
    "    if item in to_do_list:\n",
    "        to_do_list.remove(item)\n",
    "        print(f\"'{item}' has been removed from your to-do list.\")\n",
    "    else:\n",
    "        print(f\"'{item}' is not in your to-do list.\")\n",
    "\n",
    "# Example usage\n",
    "add_item(\"Finish homework\")\n",
    "add_item(\"Go grocery shopping\")\n",
    "display_list()\n",
    "remove_item(\"Finish homework\")\n",
    "display_list()"
   ]
  },
  {
   "cell_type": "code",
   "execution_count": null,
   "metadata": {
    "vscode": {
     "languageId": "javascript"
    }
   },
   "outputs": [],
   "source": [
    "// JavaScript program to create a workout tracker\n",
    "let workoutTracker = [];\n",
    "\n",
    "function addWorkout(type, duration, calories) {\n",
    "    workoutTracker.push({ type, duration, calories });\n",
    "    console.log(`Workout added: ${type}, Duration: ${duration} mins, Calories burned: ${calories}`);\n",
    "}\n",
    "\n",
    "function displayWorkouts() {\n",
    "    if (workoutTracker.length > 0) {\n",
    "        console.log(\"Your Workout Log:\");\n",
    "        workoutTracker.forEach((workout, index) => {\n",
    "            console.log(`${index + 1}. Type: ${workout.type}, Duration: ${workout.duration} mins, Calories burned: ${workout.calories}`);\n",
    "        });\n",
    "    } else {\n",
    "        console.log(\"No workouts logged.\");\n",
    "    }\n",
    "}\n",
    "\n",
    "// Example usage\n",
    "addWorkout(\"Running\", 30, 300);\n",
    "addWorkout(\"Cycling\", 45, 400);\n",
    "displayWorkouts();"
   ]
  }
 ],
 "metadata": {
  "kernelspec": {
   "display_name": ".venv",
   "language": "python",
   "name": "python3"
  },
  "language_info": {
   "codemirror_mode": {
    "name": "ipython",
    "version": 3
   },
   "file_extension": ".py",
   "mimetype": "text/x-python",
   "name": "python",
   "nbconvert_exporter": "python",
   "pygments_lexer": "ipython3",
   "version": "3.10.12"
  }
 },
 "nbformat": 4,
 "nbformat_minor": 2
}
