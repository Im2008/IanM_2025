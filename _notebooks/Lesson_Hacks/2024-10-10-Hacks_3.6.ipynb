{
 "cells": [
  {
   "cell_type": "markdown",
   "metadata": {},
   "source": [
    "---\n",
    "toc: false\n",
    "comments: true\n",
    "layout: post\n",
    "title: 3.6 HACKS\n",
    "description: Student led teaching on Abstraction. Teaching how various data types can use abstraction for computational efficiency.\n",
    "permalink: /Lesson_Hacks/Hacks_3-6\n",
    "---"
   ]
  },
  {
   "cell_type": "code",
   "execution_count": 1,
   "metadata": {},
   "outputs": [
    {
     "name": "stdout",
     "output_type": "stream",
     "text": [
      "It's freezing! Wear a heavy coat and a scarf.\n"
     ]
    }
   ],
   "source": [
    "def suggest_outfit(temperature):\n",
    "    if temperature < 32:\n",
    "        return \"It's freezing! Wear a heavy coat and a scarf.\"\n",
    "    elif 32 <= temperature < 60:\n",
    "        return \"It's chilly! A sweater and jeans would be good.\"\n",
    "    elif 60 <= temperature < 80:\n",
    "        return \"It's warm! A light jacket and comfortable pants would be great.\"\n",
    "    elif 80 <= temperature < 90:\n",
    "        return \"It's a nice day! Wear a t-shirt and shorts.\"\n",
    "    else:\n",
    "        return \"It's hot! Wear shorts and a tank top.\"\n",
    "\n",
    "# Get user input\n",
    "temp = float(input(\"Enter the temperature in degrees: \"))\n",
    "# Print the outfit suggestion\n",
    "print(suggest_outfit(temp))\n"
   ]
  },
  {
   "cell_type": "code",
   "execution_count": 2,
   "metadata": {},
   "outputs": [
    {
     "name": "stdout",
     "output_type": "stream",
     "text": [
      "Incorrect password. Try again.\n",
      "Incorrect password. Try again.\n",
      "Incorrect password. Try again.\n",
      "Maximum attempts reached. Access denied.\n"
     ]
    }
   ],
   "source": [
    "def password_checker():\n",
    "    # Define the correct password\n",
    "    correct_password = \"my_secure_password\"\n",
    "    # Initialize a variable to track the number of attempts\n",
    "    attempts = 0\n",
    "    # Set a maximum number of attempts\n",
    "    max_attempts = 3\n",
    "\n",
    "    while attempts < max_attempts:\n",
    "        # Ask the user for a password\n",
    "        user_password = input(\"Enter your password: \")\n",
    "\n",
    "        # Check if the entered password is correct\n",
    "        if user_password == correct_password:\n",
    "            print(\"Login successful! Welcome!\")\n",
    "            break  # Exit the loop on successful login\n",
    "        else:\n",
    "            attempts += 1  # Increment the attempt counter\n",
    "            print(\"Incorrect password. Try again.\")\n",
    "            if attempts == max_attempts:\n",
    "                print(\"Maximum attempts reached. Access denied.\")\n",
    "\n",
    "# Call the password_checker function\n",
    "password_checker()\n"
   ]
  },
  {
   "cell_type": "code",
   "execution_count": 3,
   "metadata": {},
   "outputs": [
    {
     "name": "stdout",
     "output_type": "stream",
     "text": [
      "Person 1 is a minor.\n",
      "Person 2 is a minor.\n"
     ]
    }
   ],
   "source": [
    "def check_ages(person1_age, person2_age):\n",
    "    # Check if either person is a minor\n",
    "    if person1_age < 18:\n",
    "        print(\"Person 1 is a minor.\")\n",
    "    else:\n",
    "        print(\"Person 1 is an adult.\")\n",
    "    \n",
    "    if person2_age < 18:\n",
    "        print(\"Person 2 is a minor.\")\n",
    "    else:\n",
    "        print(\"Person 2 is an adult.\")\n",
    "\n",
    "# Example usage\n",
    "age_person1 = int(input(\"Enter the age of Person 1: \"))\n",
    "age_person2 = int(input(\"Enter the age of Person 2: \"))\n",
    "\n",
    "check_ages(age_person1, age_person2)\n"
   ]
  },
  {
   "cell_type": "code",
   "execution_count": null,
   "metadata": {
    "vscode": {
     "languageId": "javascript"
    }
   },
   "outputs": [],
   "source": [
    "function checkScore(score) {\n",
    "    // Check if the score is below 60\n",
    "    if (score < 60) {\n",
    "        console.log(\"Your score is below 60. You may need to improve your performance.\");\n",
    "    } else if (score >= 60 && score < 70) {\n",
    "        console.log(\"You scored between 60 and 69. Keep it up!\");\n",
    "    } else if (score >= 70 && score < 80) {\n",
    "        console.log(\"Great job! You scored between 70 and 79.\");\n",
    "    } else if (score >= 80 && score < 90) {\n",
    "        console.log(\"Excellent! You scored between 80 and 89.\");\n",
    "    } else {\n",
    "        console.log(\"Outstanding! You scored 90 or above!\");\n",
    "    }\n",
    "}\n",
    "\n",
    "// Example usage\n",
    "const userScore = prompt(\"Enter your score:\");\n",
    "checkScore(parseInt(userScore)); // Ensure the score is treated as a number"
   ]
  },
  {
   "cell_type": "code",
   "execution_count": null,
   "metadata": {
    "vscode": {
     "languageId": "javascript"
    }
   },
   "outputs": [],
   "source": [
    "function checkScore(score) {\n",
    "    // Check if the score is exactly 50\n",
    "    if (score === 50) {\n",
    "        console.log(\"Your score is exactly 50. You might want to review the material.\");\n",
    "    } else if (score < 50) {\n",
    "        console.log(\"Your score is below 50. You may need to improve your performance.\");\n",
    "    } else if (score >= 60 && score < 70) {\n",
    "        console.log(\"You scored between 60 and 69. Keep it up!\");\n",
    "    } else if (score >= 70 && score < 80) {\n",
    "        console.log(\"Great job! You scored between 70 and 79.\");\n",
    "    } else if (score >= 80 && score < 90) {\n",
    "        console.log(\"Excellent! You scored between 80 and 89.\");\n",
    "    } else {\n",
    "        console.log(\"Outstanding! You scored 90 or above!\");\n",
    "    }\n",
    "}\n",
    "\n",
    "// Example usage\n",
    "const userScore = prompt(\"Enter your score:\");\n",
    "checkScore(parseInt(userScore)); // Ensure the score is treated as a number"
   ]
  },
  {
   "cell_type": "code",
   "execution_count": null,
   "metadata": {
    "vscode": {
     "languageId": "javascript"
    }
   },
   "outputs": [],
   "source": [
    "function checkScore(score) {\n",
    "    // Check if the score is exactly 50\n",
    "    if (score === 50) {\n",
    "        console.log(\"Your score is exactly 50. You might want to review the material.\");\n",
    "    } \n",
    "    // Check if the score is between 60 and 69\n",
    "    else if (score >= 60 && score < 70) {\n",
    "        console.log(\"You scored between 60 and 69. Keep working hard to improve!\");\n",
    "    } \n",
    "    // Check if the score is below 50\n",
    "    else if (score < 50) {\n",
    "        console.log(\"Your score is below 50. You may need to improve your performance.\");\n",
    "    } \n",
    "    // Check if the score is between 70 and 79\n",
    "    else if (score >= 70 && score < 80) {\n",
    "        console.log(\"Great job! You scored between 70 and 79.\");\n",
    "    } \n",
    "    // Check if the score is between 80 and 89\n",
    "    else if (score >= 80 && score < 90) {\n",
    "        console.log(\"Excellent! You scored between 80 and 89.\");\n",
    "    } \n",
    "    // Check if the score is 90 or above\n",
    "    else {\n",
    "        console.log(\"Outstanding! You scored 90 or above!\");\n",
    "    }\n",
    "}\n",
    "\n",
    "// Example usage\n",
    "const userScore = prompt(\"Enter your score:\");\n",
    "checkScore(parseInt(userScore)); // Ensure the score is treated as a number"
   ]
  },
  {
   "cell_type": "code",
   "execution_count": 4,
   "metadata": {},
   "outputs": [
    {
     "name": "stdout",
     "output_type": "stream",
     "text": [
      "Even\n",
      "Odd\n",
      "Even\n",
      "Odd\n"
     ]
    }
   ],
   "source": [
    "def check_odd_even(number):\n",
    "    \"\"\"Check if a number is odd or even.\"\"\"\n",
    "    if number % 2 == 0:\n",
    "        return \"Even\"\n",
    "    else:\n",
    "        return \"Odd\"\n",
    "\n",
    "# Testing the function with different numbers\n",
    "print(check_odd_even(4))  # Output: Even\n",
    "print(check_odd_even(7))  # Output: Odd\n",
    "print(check_odd_even(0))  # Output: Even\n",
    "print(check_odd_even(-3))  # Output: Odd\n"
   ]
  },
  {
   "cell_type": "code",
   "execution_count": 5,
   "metadata": {},
   "outputs": [
    {
     "name": "stdout",
     "output_type": "stream",
     "text": [
      "Leap Year\n",
      "Not a Leap Year\n",
      "Leap Year\n",
      "Not a Leap Year\n"
     ]
    }
   ],
   "source": [
    "def is_leap_year(year):\n",
    "    \"\"\"Determine if a year is a leap year.\"\"\"\n",
    "    if (year % 4 == 0 and year % 100 != 0) or (year % 400 == 0):\n",
    "        return \"Leap Year\"\n",
    "    else:\n",
    "        return \"Not a Leap Year\"\n",
    "\n",
    "# Testing the function with different years\n",
    "print(is_leap_year(2020))  # Output: Leap Year\n",
    "print(is_leap_year(1900))  # Output: Not a Leap Year\n",
    "print(is_leap_year(2000))  # Output: Leap Year\n",
    "print(is_leap_year(2023))  # Output: Not a Leap Year\n"
   ]
  },
  {
   "cell_type": "code",
   "execution_count": 6,
   "metadata": {},
   "outputs": [
    {
     "name": "stdout",
     "output_type": "stream",
     "text": [
      "Cold\n",
      "Warm\n",
      "Hot\n",
      "Hot\n"
     ]
    }
   ],
   "source": [
    "def temperature_range(temperature):\n",
    "    \"\"\"Check the temperature range.\"\"\"\n",
    "    if temperature < 60:\n",
    "        return \"Cold\"\n",
    "    elif 60 <= temperature <= 80:\n",
    "        return \"Warm\"\n",
    "    else:  # temperature > 80\n",
    "        return \"Hot\"\n",
    "\n",
    "# Testing the function with different temperature values\n",
    "print(temperature_range(50))   # Output: Cold\n",
    "print(temperature_range(75))   # Output: Warm\n",
    "print(temperature_range(85))   # Output: Hot\n",
    "print(temperature_range(90))   # Output: Hot\n"
   ]
  }
 ],
 "metadata": {
  "kernelspec": {
   "display_name": ".venv",
   "language": "python",
   "name": "python3"
  },
  "language_info": {
   "codemirror_mode": {
    "name": "ipython",
    "version": 3
   },
   "file_extension": ".py",
   "mimetype": "text/x-python",
   "name": "python",
   "nbconvert_exporter": "python",
   "pygments_lexer": "ipython3",
   "version": "3.10.12"
  }
 },
 "nbformat": 4,
 "nbformat_minor": 2
}
