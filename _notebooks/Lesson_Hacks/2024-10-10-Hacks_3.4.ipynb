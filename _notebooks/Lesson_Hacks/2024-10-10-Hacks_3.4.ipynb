{
 "cells": [
  {
   "cell_type": "markdown",
   "metadata": {},
   "source": [
    "---\n",
    "toc: false\n",
    "comments: true\n",
    "layout: post\n",
    "title: 3.4 HACKS\n",
    "description: Student led teaching on Abstraction. Teaching how various data types can use abstraction for computational efficiency.\n",
    "permalink: /Lesson_Hacks/Hacks_3-4\n",
    "---"
   ]
  },
  {
   "cell_type": "markdown",
   "metadata": {},
   "source": [
    "# Popcorn hack 1"
   ]
  },
  {
   "cell_type": "code",
   "execution_count": 1,
   "metadata": {},
   "outputs": [
    {
     "name": "stdout",
     "output_type": "stream",
     "text": [
      "The title 'In the morning light' appears 3 times in the lyrics.\n",
      "The lyrics do not contain 50 words.\n",
      "\n",
      "Modified lyrics:\n",
      " In the morning light, I greet the day\n",
      "The world is bright, everything feels fine\n",
      "In the morning light, I feel so free\n",
      "I take a step, just me and the sea\n",
      "The waves are calling, they dance and play\n",
      "In the morning light, I rise and shine\n",
      "\n",
      "Your own custom song:\n",
      " In the morning light, I greet the day\n",
      "The world is bright, everything feels fine\n"
     ]
    }
   ],
   "source": [
    "# Sample lyrics of a clean song (made-up)\n",
    "lyrics = \"\"\"\n",
    "In the morning light, I rise and shine\n",
    "The world is bright, everything feels fine\n",
    "In the morning light, I feel so free\n",
    "I take a step, just me and the sea\n",
    "The waves are calling, they dance and play\n",
    "In the morning light, I greet the day\n",
    "\"\"\"\n",
    "\n",
    "# Title of the song\n",
    "title = \"In the morning light\"\n",
    "\n",
    "# 1. Count how many times the title appears in the lyrics\n",
    "title_count = lyrics.count(title)\n",
    "print(f\"The title '{title}' appears {title_count} times in the lyrics.\")\n",
    "\n",
    "# 2. Find the index of the 50th word\n",
    "words = lyrics.split()\n",
    "if len(words) >= 50:\n",
    "    word_50_index = words[49]  # Index is 0-based, so the 50th word is at index 49\n",
    "    print(f\"The 50th word is '{word_50_index}' at index 49.\")\n",
    "else:\n",
    "    print(\"The lyrics do not contain 50 words.\")\n",
    "\n",
    "# 3. Replace the first verse with the last verse\n",
    "# Split the lyrics into verses\n",
    "verses = lyrics.strip().split(\"\\n\")\n",
    "if len(verses) > 1:\n",
    "    verses[0], verses[-1] = verses[-1], verses[0]  # Swap first and last verses\n",
    "\n",
    "# Join the verses back into a single string\n",
    "modified_lyrics = \"\\n\".join(verses)\n",
    "print(\"\\nModified lyrics:\\n\", modified_lyrics)\n",
    "\n",
    "# 4. Concatenate two verses together to make your own song\n",
    "# For this example, we concatenate the first two verses\n",
    "if len(verses) >= 2:\n",
    "    custom_song = verses[0] + \"\\n\" + verses[1]\n",
    "    print(\"\\nYour own custom song:\\n\", custom_song)\n",
    "else:\n",
    "    print(\"Not enough verses to create a custom song.\")\n"
   ]
  },
  {
   "cell_type": "markdown",
   "metadata": {},
   "source": [
    "# Popcorn hack 2"
   ]
  },
  {
   "cell_type": "code",
   "execution_count": null,
   "metadata": {
    "vscode": {
     "languageId": "javascript"
    }
   },
   "outputs": [],
   "source": [
    "// Concatenate a flower with an animal to create a new creature\n",
    "const flower = \"Rose\";\n",
    "const animal = \"Lion\";\n",
    "const newCreature = `${flower}${animal}`; // Using template literals\n",
    "\n",
    "// Display the new creature\n",
    "console.log(\"New Creature: \" + newCreature); // Using regular quotes\n",
    "console.log(`New Creature: ${newCreature}`); // Using template literals\n",
    "\n",
    "// Define variables for the story\n",
    "const creatureName = newCreature; // The name of the new creature\n",
    "const description = \"a majestic creature with the elegance of a flower and the strength of a lion.\";\n",
    "const dialogue = \"I am the RoseLion, protector of the enchanted garden!\";\n",
    "\n",
    "// Create a short story about the creature\n",
    "const story = `\n",
    "Once upon a time in a magical forest, there lived a creature known as ${creatureName}, \n",
    "${description} One day, it said, '${dialogue}' \n",
    "With its fierce roar and gentle petals, it brought peace to all the creatures in the forest.\n",
    "People from far and wide would come to see the ${creatureName} and marvel at its beauty and power.\n",
    "`;\n",
    "\n",
    "// Display the story\n",
    "console.log(story);"
   ]
  },
  {
   "cell_type": "markdown",
   "metadata": {},
   "source": [
    "# Python Hack"
   ]
  },
  {
   "cell_type": "code",
   "execution_count": 2,
   "metadata": {},
   "outputs": [
    {
     "name": "stdout",
     "output_type": "stream",
     "text": [
      "\n",
      "Original string: sentence\n",
      "Total characters (including spaces): 8\n",
      "Longest word: 'sentence' with 8 characters.\n",
      "Reversed string: 'ecnetnes'\n",
      "Middle character(s): 'te'\n",
      "The word 'hello' was not found in the original string.\n"
     ]
    }
   ],
   "source": [
    "def text_analyzer():\n",
    "    # Accept input from the user\n",
    "    user_input = input(\"Enter a sentence or multiple words: \")\n",
    "    \n",
    "    # Display the original string\n",
    "    print(f\"\\nOriginal string: {user_input}\")\n",
    "    \n",
    "    # Count total characters (including spaces)\n",
    "    total_characters = len(user_input)\n",
    "    print(f\"Total characters (including spaces): {total_characters}\")\n",
    "    \n",
    "    # Find the longest word\n",
    "    words = user_input.split()\n",
    "    longest_word = max(words, key=len)\n",
    "    print(f\"Longest word: '{longest_word}' with {len(longest_word)} characters.\")\n",
    "    \n",
    "    # Display the string reversed\n",
    "    reversed_string = user_input[::-1]\n",
    "    print(f\"Reversed string: '{reversed_string}'\")\n",
    "    \n",
    "    # Find the middle word/character (excluding spaces)\n",
    "    cleaned_input = ''.join(user_input.split())  # Remove spaces\n",
    "    middle_index = len(cleaned_input) // 2\n",
    "    \n",
    "    if len(cleaned_input) % 2 == 0:\n",
    "        middle_char = cleaned_input[middle_index-1:middle_index+1]  # Even length\n",
    "    else:\n",
    "        middle_char = cleaned_input[middle_index]  # Odd length\n",
    "    \n",
    "    print(f\"Middle character(s): '{middle_char}'\")\n",
    "    \n",
    "    # Custom function to replace words\n",
    "    word_to_replace = input(\"Enter a word to replace: \")\n",
    "    replacement_word = input(\"Enter the replacement word: \")\n",
    "    \n",
    "    if word_to_replace in user_input:\n",
    "        modified_string = user_input.replace(word_to_replace, replacement_word)\n",
    "        print(f\"Modified string: '{modified_string}'\")\n",
    "    else:\n",
    "        print(f\"The word '{word_to_replace}' was not found in the original string.\")\n",
    "\n",
    "# Run the analyzer\n",
    "text_analyzer()\n"
   ]
  },
  {
   "cell_type": "markdown",
   "metadata": {},
   "source": [
    "# Javascript hack:"
   ]
  },
  {
   "cell_type": "code",
   "execution_count": null,
   "metadata": {
    "vscode": {
     "languageId": "javascript"
    }
   },
   "outputs": [],
   "source": [
    "function textAnalyzer() {\n",
    "    // Accept input from the user\n",
    "    const userInput = prompt(\"Enter a sentence or multiple words:\");\n",
    "    \n",
    "    // Display the original string\n",
    "    console.log(`\\nOriginal string: ${userInput}`);\n",
    "    \n",
    "    // Count total characters (including spaces)\n",
    "    const totalCharacters = userInput.length;\n",
    "    console.log(`Total characters (including spaces): ${totalCharacters}`);\n",
    "    \n",
    "    // Find the longest word\n",
    "    const words = userInput.split(\" \");\n",
    "    const longestWord = words.reduce((a, b) => a.length >= b.length ? a : b);\n",
    "    console.log(`Longest word: '${longestWord}' with ${longestWord.length} characters.`);\n",
    "    \n",
    "    // Display the string reversed\n",
    "    const reversedString = userInput.split(\"\").reverse().join(\"\");\n",
    "    console.log(`Reversed string: '${reversedString}'`);\n",
    "    \n",
    "    // Find the middle word/character (excluding spaces)\n",
    "    const cleanedInput = userInput.replace(/\\s+/g, ''); // Remove spaces\n",
    "    const middleIndex = Math.floor(cleanedInput.length / 2);\n",
    "    \n",
    "    let middleChar;\n",
    "    if (cleanedInput.length % 2 === 0) {\n",
    "        middleChar = cleanedInput[middleIndex - 1] + cleanedInput[middleIndex]; // Even length\n",
    "    } else {\n",
    "        middleChar = cleanedInput[middleIndex]; // Odd length\n",
    "    }\n",
    "    \n",
    "    console.log(`Middle character(s): '${middleChar}'`);\n",
    "    \n",
    "    // Custom function to replace words\n",
    "    const wordToReplace = prompt(\"Enter a word to replace:\");\n",
    "    const replacementWord = prompt(\"Enter the replacement word:\");\n",
    "    \n",
    "    if (userInput.includes(wordToReplace)) {\n",
    "        const modifiedString = userInput.replace(new RegExp(wordToReplace, 'g'), replacementWord);\n",
    "        console.log(`Modified string: '${modifiedString}'`);\n",
    "    } else {\n",
    "        console.log(`The word '${wordToReplace}' was not found in the original string.`);\n",
    "    }\n",
    "}\n",
    "\n",
    "// Run the analyzer\n",
    "textAnalyzer();\n"
   ]
  }
 ],
 "metadata": {
  "kernelspec": {
   "display_name": ".venv",
   "language": "python",
   "name": "python3"
  },
  "language_info": {
   "codemirror_mode": {
    "name": "ipython",
    "version": 3
   },
   "file_extension": ".py",
   "mimetype": "text/x-python",
   "name": "python",
   "nbconvert_exporter": "python",
   "pygments_lexer": "ipython3",
   "version": "3.10.12"
  }
 },
 "nbformat": 4,
 "nbformat_minor": 2
}
