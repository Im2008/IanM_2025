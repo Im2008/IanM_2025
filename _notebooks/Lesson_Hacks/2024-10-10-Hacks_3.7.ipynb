{
 "cells": [
  {
   "cell_type": "markdown",
   "metadata": {},
   "source": [
    "---\n",
    "toc: false\n",
    "comments: true\n",
    "layout: post\n",
    "title: 3.7 HACKS\n",
    "description: Student led teaching on Abstraction. Teaching how various data types can use abstraction for computational efficiency.\n",
    "permalink: /Lesson_Hacks/Hacks_3-7\n",
    "---"
   ]
  },
  {
   "cell_type": "markdown",
   "metadata": {},
   "source": [
    "python pop 1;"
   ]
  },
  {
   "cell_type": "code",
   "execution_count": 1,
   "metadata": {},
   "outputs": [
    {
     "name": "stdout",
     "output_type": "stream",
     "text": [
      "The weather is sunny\n",
      "Your transportation is available\n",
      "Your boots are present\n",
      "Location determined: True\n",
      "Total miles in the hike: 5\n",
      "You are ready to go hiking!\n"
     ]
    }
   ],
   "source": [
    "weather = \"sunny\"\n",
    "transportation = \"available\"\n",
    "boots = \"present\"\n",
    "location_determined = True\n",
    "miles_in_the_hike = 5\n",
    "\n",
    "print(f\"The weather is {weather}\")\n",
    "print(f\"Your transportation is {transportation}\")\n",
    "print(f\"Your boots are {boots}\")\n",
    "print(f\"Location determined: {location_determined}\")\n",
    "print(f\"Total miles in the hike: {miles_in_the_hike}\")\n",
    "\n",
    "if weather == \"sunny\":\n",
    "    if transportation == \"available\":\n",
    "        if boots == \"present\":\n",
    "            if location_determined and miles_in_the_hike <= 10:\n",
    "                print(\"You are ready to go hiking!\")\n",
    "            else:\n",
    "                print(\"Check the location or make sure the hike isn't too long.\")\n",
    "        else:\n",
    "            print(\"You need to find your boots first.\")\n",
    "    else:\n",
    "        print(\"You need to arrange transportation.\")\n",
    "else:\n",
    "    print(\"It's not good weather for hiking.\")"
   ]
  },
  {
   "cell_type": "markdown",
   "metadata": {},
   "source": [
    "python pop 2;"
   ]
  },
  {
   "cell_type": "code",
   "execution_count": 3,
   "metadata": {},
   "outputs": [
    {
     "name": "stdout",
     "output_type": "stream",
     "text": [
      "You need to fix or replace the projector.\n"
     ]
    }
   ],
   "source": [
    "living_room_available = True\n",
    "projector_working = False\n",
    "enough_snacks = True\n",
    "\n",
    "if living_room_available:\n",
    "    if projector_working:\n",
    "        if enough_snacks:\n",
    "            print(\"You're ready to host the movie night!\")\n",
    "        else:\n",
    "            print(\"You need to get more snacks. Ideas: Popcorn, Candy, Soda\")\n",
    "    else:\n",
    "        print(\"You need to fix or replace the projector.\")\n",
    "else:\n",
    "    print(\"The living room is not available for the movie night. Find another room!\")"
   ]
  },
  {
   "cell_type": "markdown",
   "metadata": {},
   "source": [
    "python pop 3;"
   ]
  },
  {
   "cell_type": "code",
   "execution_count": 4,
   "metadata": {},
   "outputs": [
    {
     "name": "stdout",
     "output_type": "stream",
     "text": [
      "You need to fill up the tank first.\n"
     ]
    }
   ],
   "source": [
    "import random\n",
    "\n",
    "# Random values for gas, weather, and car check\n",
    "enough_gas = random.choice([True, False])  # Boolean: Do you have enough gas?\n",
    "gas_in_gallons = random.randint(5, 20)  # Random gas amount between 5 to 20 gallons\n",
    "required_gallons = 10  # Assume you need 10 gallons for the trip\n",
    "\n",
    "# Random values for weather and car\n",
    "good_weather = random.choice([True, False])  # Random: Is the weather good?\n",
    "car_checked = random.choice([True, False])  # Random: Did the car pass the check-up?\n",
    "\n",
    "# Integer budget and required amount\n",
    "budget = random.randint(50, 200)  # Random budget between $50 and $200\n",
    "required_budget = 100  # Assume you need $100 for the trip\n",
    "\n",
    "# Nested conditionals to check everything\n",
    "if enough_gas and gas_in_gallons >= required_gallons:\n",
    "    print(f\"You have enough gas! You have {gas_in_gallons} gallons, which is sufficient.\")\n",
    "    if good_weather:\n",
    "        print(\"The weather is good!\")\n",
    "        if car_checked:\n",
    "            print(\"Your car has been checked!\")\n",
    "            if budget >= required_budget:\n",
    "                print(f\"You're ready for the road trip! You have ${budget}, which is enough.\")\n",
    "            else:\n",
    "                print(f\"You need more money for the trip. You only have ${budget}, but you need at least ${required_budget}.\")\n",
    "        else:\n",
    "            print(\"You need to get the car checked first.\")\n",
    "    else:\n",
    "        print(\"The weather isn't good for a road trip.\")\n",
    "else:\n",
    "    if not enough_gas:\n",
    "        print(\"You need to fill up the tank first.\")\n",
    "    else:\n",
    "        print(f\"You don't have enough gas! You only have {gas_in_gallons} gallons, but you need at least {required_gallons}.\")"
   ]
  },
  {
   "cell_type": "markdown",
   "metadata": {},
   "source": [
    "Javascript pop 1;"
   ]
  },
  {
   "cell_type": "code",
   "execution_count": null,
   "metadata": {
    "vscode": {
     "languageId": "javascript"
    }
   },
   "outputs": [],
   "source": [
    "let weather = \"sunny\";\n",
    "let transportation = \"available\";\n",
    "let boots = \"present\";\n",
    "let location_determined = true;\n",
    "let miles_in_the_hike = 5;\n",
    "\n",
    "console.log(\"The weather is \" + weather);\n",
    "console.log(\"Your transportation is \" + transportation);\n",
    "console.log(\"Your boots are \" + boots);\n",
    "\n",
    "if (weather === \"sunny\") {\n",
    "    if (transportation === \"available\") {\n",
    "        if (boots === \"present\") {\n",
    "            if (location_determined && miles_in_the_hike <= 10) {\n",
    "                console.log(\"You are ready to go hiking!\");\n",
    "            } else {\n",
    "                console.log(\"Check the location or make sure the hike isn't too long.\");\n",
    "            }\n",
    "        } else {\n",
    "            console.log(\"You need to find your boots first.\");\n",
    "        }\n",
    "    } else {\n",
    "        console.log(\"You need to arrange transportation.\");\n",
    "    }\n",
    "} else {\n",
    "    console.log(\"It's not good weather for hiking.\");\n",
    "}"
   ]
  },
  {
   "cell_type": "markdown",
   "metadata": {},
   "source": [
    "javascript pop 2;"
   ]
  },
  {
   "cell_type": "code",
   "execution_count": null,
   "metadata": {
    "vscode": {
     "languageId": "javascript"
    }
   },
   "outputs": [],
   "source": [
    "let living_room_available = true;\n",
    "let projector_working = false;\n",
    "let enough_snacks = true;\n",
    "\n",
    "if (living_room_available) {\n",
    "    if (projector_working) {\n",
    "        if (enough_snacks) {\n",
    "            console.log(\"You're ready to host the movie night!\");\n",
    "        } else {\n",
    "            console.log(\"You need to get more snacks. Ideas: Popcorn, Candy, Soda\");\n",
    "        }\n",
    "    } else {\n",
    "        console.log(\"You need to fix or replace the projector.\");\n",
    "    }\n",
    "} else {\n",
    "    console.log(\"The living room is not available for the movie night. Find another room!\");\n",
    "}"
   ]
  },
  {
   "cell_type": "markdown",
   "metadata": {},
   "source": [
    "javascript pop 3;"
   ]
  },
  {
   "cell_type": "code",
   "execution_count": null,
   "metadata": {
    "vscode": {
     "languageId": "javascript"
    }
   },
   "outputs": [],
   "source": [
    "// Boolean: Do you have enough gas?\n",
    "let enough_gas = Math.random() < 0.5;  // Random true or false\n",
    "let gas_in_gallons = Math.floor(Math.random() * (20 - 5 + 1)) + 5; // Random gas amount between 5 and 20 gallons\n",
    "let required_gallons = 10;  // Assume you need 10 gallons for the trip\n",
    "\n",
    "// Random: Is the weather good? (Random true or false)\n",
    "let good_weather = Math.random() < 0.5;\n",
    "\n",
    "// Random: Did the car pass the check-up? (Random true or false)\n",
    "let car_checked = Math.random() < 0.5;\n",
    "\n",
    "// Integer: Your current budget (Random between $50 and $200)\n",
    "let budget = Math.floor(Math.random() * (200 - 50 + 1)) + 50;\n",
    "let required_budget = 100;  // Assume you need $100 for the trip\n",
    "\n",
    "// Check the conditions using nested conditionals\n",
    "if (enough_gas && gas_in_gallons >= required_gallons) {\n",
    "    console.log(`You have enough gas! You have ${gas_in_gallons} gallons, which is sufficient.`);\n",
    "    if (good_weather) {\n",
    "        console.log(\"The weather is good!\");\n",
    "        if (car_checked) {\n",
    "            console.log(\"Your car has been checked!\");\n",
    "            if (budget >= required_budget) {\n",
    "                console.log(`You're ready for the road trip! You have $${budget}, which is enough.`);\n",
    "            } else {\n",
    "                console.log(`You need more money for the trip. You only have $${budget}, but you need at least $${required_budget}.`);\n",
    "            }\n",
    "        } else {\n",
    "            console.log(\"You need to get the car checked first.\");\n",
    "        }\n",
    "    } else {\n",
    "        console.log(\"The weather isn't good for a road trip.\");\n",
    "    }\n",
    "} else {\n",
    "    if (!enough_gas) {\n",
    "        console.log(\"You need to fill up the tank first.\");\n",
    "    } else {\n",
    "        console.log(`You don't have enough gas! You only have ${gas_in_gallons} gallons, but you need at least ${required_gallons}.`);\n",
    "    }\n",
    "}"
   ]
  },
  {
   "cell_type": "markdown",
   "metadata": {},
   "source": [
    "python hack 1;"
   ]
  },
  {
   "cell_type": "code",
   "execution_count": 6,
   "metadata": {},
   "outputs": [
    {
     "name": "stdout",
     "output_type": "stream",
     "text": [
      "The weather is sunny.\n",
      "Do you have sunscreen? True\n",
      "Do you have snacks? False\n",
      "You need to get some snacks before going to the beach.\n"
     ]
    }
   ],
   "source": [
    "# Hack 1: Go to the Beach Decision\n",
    "\n",
    "weather = \"sunny\"  # Change this to test different conditions\n",
    "has_sunscreen = True  # Change to False to simulate no sunscreen\n",
    "has_snacks = False  # Change to True to simulate having snacks\n",
    "\n",
    "print(f\"The weather is {weather}.\")\n",
    "print(f\"Do you have sunscreen? {has_sunscreen}\")\n",
    "print(f\"Do you have snacks? {has_snacks}\")\n",
    "\n",
    "if weather == \"sunny\":\n",
    "    if has_sunscreen:\n",
    "        if has_snacks:\n",
    "            print(\"You are ready for the beach!\")\n",
    "        else:\n",
    "            print(\"You need to get some snacks before going to the beach.\")\n",
    "    else:\n",
    "        print(\"You need to buy sunscreen before going to the beach.\")\n",
    "else:\n",
    "    print(\"It's not a good day for the beach.\")"
   ]
  },
  {
   "cell_type": "markdown",
   "metadata": {},
   "source": [
    "python hack 2;"
   ]
  },
  {
   "cell_type": "code",
   "execution_count": 7,
   "metadata": {},
   "outputs": [
    {
     "name": "stdout",
     "output_type": "stream",
     "text": [
      "Your age is 20.\n",
      "You have 60 square feet of space.\n",
      "Are you available to care for the pet? True\n",
      "You can adopt the pet!\n"
     ]
    }
   ],
   "source": [
    "# Hack 2: Adopt a Pet\n",
    "\n",
    "age = 20  # Change this to test different ages\n",
    "space_in_home = 60  # Change this to test different space sizes\n",
    "available_to_care = True  # Change to False to simulate no availability\n",
    "\n",
    "print(f\"Your age is {age}.\")\n",
    "print(f\"You have {space_in_home} square feet of space.\")\n",
    "print(f\"Are you available to care for the pet? {available_to_care}\")\n",
    "\n",
    "if age >= 18:\n",
    "    if space_in_home > 50:\n",
    "        if available_to_care:\n",
    "            print(\"You can adopt the pet!\")\n",
    "        else:\n",
    "            print(\"You need to make time to care for the pet.\")\n",
    "    else:\n",
    "        print(\"You need a bigger home with more space to adopt a pet.\")\n",
    "else:\n",
    "    print(\"You must be at least 18 years old to adopt a pet.\")"
   ]
  },
  {
   "cell_type": "markdown",
   "metadata": {},
   "source": [
    "python hack 3;"
   ]
  },
  {
   "cell_type": "code",
   "execution_count": null,
   "metadata": {},
   "outputs": [
    {
     "name": "stdout",
     "output_type": "stream",
     "text": [
      "The weather is clear.\n",
      "Do you have running shoes? True\n",
      "How many days have you practiced? 12\n",
      "You are ready for the marathon!\n"
     ]
    }
   ],
   "source": [
    "# Hack 3: Participate in a Marathon\n",
    "\n",
    "weather = \"clear\"  # Change this to test different weather conditions\n",
    "has_running_shoes = True  # Change to False to simulate no running shoes\n",
    "days_practiced = 12  # Change to test different number of practice days\n",
    "\n",
    "print(f\"The weather is {weather}.\")\n",
    "print(f\"Do you have running shoes? {has_running_shoes}\")\n",
    "print(f\"How many days have you practiced? {days_practiced}\")\n",
    "\n",
    "if weather == \"clear\":\n",
    "    if has_running_shoes:\n",
    "        if days_practiced >= 10:\n",
    "            print(\"You are ready for the marathon!\")\n",
    "        else:\n",
    "            print(\"You need to practice more before the marathon.\")\n",
    "    else:\n",
    "        print(\"You need to buy running shoes before the marathon.\")\n",
    "else:\n",
    "    print(\"It's not the right time for the marathon due to the weather.\")"
   ]
  },
  {
   "cell_type": "markdown",
   "metadata": {},
   "source": [
    "javascript hack 1;"
   ]
  },
  {
   "cell_type": "code",
   "execution_count": null,
   "metadata": {
    "vscode": {
     "languageId": "javascript"
    }
   },
   "outputs": [],
   "source": [
    "// Hack 1: Study for an Exam\n",
    "\n",
    "let hasStudyMaterials = true;  // Change to false to simulate no materials\n",
    "let hasQuietPlace = false;     // Change to true to simulate having a quiet place\n",
    "let isTired = false;           // Change to true to simulate being too tired\n",
    "\n",
    "console.log(\"Do you have your study materials? \" + hasStudyMaterials);\n",
    "console.log(\"Do you have a quiet place to study? \" + hasQuietPlace);\n",
    "console.log(\"Are you feeling tired? \" + isTired);\n",
    "\n",
    "if (hasStudyMaterials) {\n",
    "    if (hasQuietPlace) {\n",
    "        if (!isTired) {\n",
    "            console.log(\"You are ready to study!\");\n",
    "        } else {\n",
    "            console.log(\"You are too tired. Consider taking a nap or resting first.\");\n",
    "        }\n",
    "    } else {\n",
    "        console.log(\"You need to find a quiet place to study.\");\n",
    "    }\n",
    "} else {\n",
    "    console.log(\"You need to gather your study materials first.\");\n",
    "}\n"
   ]
  },
  {
   "cell_type": "markdown",
   "metadata": {},
   "source": [
    "javascript hack 2;"
   ]
  },
  {
   "cell_type": "code",
   "execution_count": null,
   "metadata": {
    "vscode": {
     "languageId": "javascript"
    }
   },
   "outputs": [],
   "source": [
    "// Hack 2: Bake a Cake\n",
    "\n",
    "let hasIngredients = true;       // Change to false to simulate missing ingredients\n",
    "let ovenWorking = true;          // Change to false to simulate oven not working\n",
    "let availableTime = 3;           // Hours available (change to test)\n",
    "\n",
    "let requiredTime = 2;            // Time required to bake and cool the cake\n",
    "\n",
    "console.log(\"Do you have all ingredients? \" + hasIngredients);\n",
    "console.log(\"Is the oven working? \" + ovenWorking);\n",
    "console.log(\"Available time: \" + availableTime + \" hours\");\n",
    "\n",
    "if (hasIngredients) {\n",
    "    if (ovenWorking) {\n",
    "        if (availableTime >= requiredTime) {\n",
    "            console.log(\"You can start baking the cake!\");\n",
    "        } else {\n",
    "            console.log(\"You need to find more time to bake the cake.\");\n",
    "        }\n",
    "    } else {\n",
    "        console.log(\"You need to fix or replace the oven before baking.\");\n",
    "    }\n",
    "} else {\n",
    "    console.log(\"You are missing some ingredients to bake the cake.\");\n",
    "}"
   ]
  },
  {
   "cell_type": "markdown",
   "metadata": {},
   "source": [
    "javascript hack 3;"
   ]
  },
  {
   "cell_type": "code",
   "execution_count": null,
   "metadata": {
    "vscode": {
     "languageId": "javascript"
    }
   },
   "outputs": [],
   "source": [
    "// Hack 3: Go Camping\n",
    "\n",
    "let weather = \"clear\";        // Change to \"rainy\" or other values to test\n",
    "let hasTent = true;           // Change to false to simulate no tent\n",
    "let hasFoodAndWater = true;   // Change to false to simulate not enough food or water\n",
    "\n",
    "console.log(\"The weather is \" + weather);\n",
    "console.log(\"Do you have a tent? \" + hasTent);\n",
    "console.log(\"Do you have enough food and water? \" + hasFoodAndWater);\n",
    "\n",
    "if (weather === \"clear\") {\n",
    "    if (hasTent) {\n",
    "        if (hasFoodAndWater) {\n",
    "            console.log(\"You are ready to go camping!\");\n",
    "        } else {\n",
    "            console.log(\"You need to pack more food and water for the trip.\");\n",
    "        }\n",
    "    } else {\n",
    "        console.log(\"You need to buy or borrow a tent.\");\n",
    "    }\n",
    "} else {\n",
    "    console.log(\"It's not a good time for camping due to the weather.\");\n",
    "}"
   ]
  }
 ],
 "metadata": {
  "kernelspec": {
   "display_name": ".venv",
   "language": "python",
   "name": "python3"
  },
  "language_info": {
   "codemirror_mode": {
    "name": "ipython",
    "version": 3
   },
   "file_extension": ".py",
   "mimetype": "text/x-python",
   "name": "python",
   "nbconvert_exporter": "python",
   "pygments_lexer": "ipython3",
   "version": "3.10.12"
  }
 },
 "nbformat": 4,
 "nbformat_minor": 2
}
