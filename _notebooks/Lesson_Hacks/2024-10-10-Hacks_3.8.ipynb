{
 "cells": [
  {
   "cell_type": "code",
   "execution_count": null,
   "metadata": {},
   "outputs": [],
   "source": []
  },
  {
   "cell_type": "markdown",
   "metadata": {},
   "source": [
    "---\n",
    "toc: false\n",
    "comments: true\n",
    "layout: post\n",
    "title: 3.1 HACKS\n",
    "description: Student led teaching on Abstraction. Teaching how various data types can use abstraction for computational efficiency.\n",
    "permalink: /Lesson_Hacks/Hacks_3-8\n",
    "---"
   ]
  },
  {
   "cell_type": "code",
   "execution_count": 1,
   "metadata": {},
   "outputs": [
    {
     "name": "stdout",
     "output_type": "stream",
     "text": [
      "hello\n",
      "hello\n",
      "hello\n",
      "hello\n",
      "hello\n"
     ]
    }
   ],
   "source": [
    "# Initialize a counter variable\n",
    "counter = 0\n",
    "\n",
    "# While loop to print \"hello\" 5 times\n",
    "while counter < 5:\n",
    "    print(\"hello\")\n",
    "    counter += 1  # Increment the counter"
   ]
  },
  {
   "cell_type": "code",
   "execution_count": 2,
   "metadata": {},
   "outputs": [
    {
     "name": "stdout",
     "output_type": "stream",
     "text": [
      "John\n",
      "MichaelMichael\n",
      "DoeDoeDoe\n",
      "John\n",
      "MichaelMichael\n",
      "DoeDoeDoe\n",
      "John\n",
      "MichaelMichael\n",
      "DoeDoeDoe\n",
      "John\n",
      "MichaelMichael\n",
      "DoeDoeDoe\n"
     ]
    }
   ],
   "source": [
    "# Define your names\n",
    "first_name = \"John\"\n",
    "middle_name = \"Michael\"\n",
    "last_name = \"Doe\"\n",
    "\n",
    "# Repeat the whole process 4 times\n",
    "for _ in range(4):\n",
    "    print(first_name)        # Print the first name once\n",
    "    print(middle_name * 2)   # Print the middle name twice\n",
    "    print(last_name * 3)     # Print the last name three times\n"
   ]
  },
  {
   "cell_type": "code",
   "execution_count": 3,
   "metadata": {},
   "outputs": [
    {
     "name": "stdout",
     "output_type": "stream",
     "text": [
      "J\n",
      "o\n",
      "h\n",
      "n\n",
      "D\n",
      "o\n",
      "e\n"
     ]
    }
   ],
   "source": [
    "# Define your name\n",
    "name = \"John Doe\"\n",
    "\n",
    "# Iterate through each letter in the name, excluding spaces\n",
    "for letter in name:\n",
    "    if letter != \" \":  # Check if the letter is not a space\n",
    "        print(letter)\n"
   ]
  },
  {
   "cell_type": "code",
   "execution_count": 4,
   "metadata": {},
   "outputs": [
    {
     "name": "stdout",
     "output_type": "stream",
     "text": [
      "The Apple is Red. That's a delicious fruit!\n",
      "The Banana is Yellow. That's a delicious fruit!\n",
      "The Grapes is Purple. That's a delicious fruit!\n",
      "The Orange is Orange. That's a delicious fruit!\n",
      "The Lemon is Yellow. That's a delicious fruit!\n"
     ]
    }
   ],
   "source": [
    "# Create a dictionary with some fruit and their colors\n",
    "fruit_colors = {\n",
    "    \"Apple\": \"Red\",\n",
    "    \"Banana\": \"Yellow\",\n",
    "    \"Grapes\": \"Purple\",\n",
    "    \"Orange\": \"Orange\",\n",
    "    \"Lemon\": \"Yellow\"\n",
    "}\n",
    "\n",
    "# Iterate through each key and value in the dictionary\n",
    "for fruit, color in fruit_colors.items():\n",
    "    print(f\"The {fruit} is {color}. That's a delicious fruit!\")"
   ]
  },
  {
   "cell_type": "code",
   "execution_count": 5,
   "metadata": {},
   "outputs": [
    {
     "name": "stdout",
     "output_type": "stream",
     "text": [
      "Incorrect password. Please try again.\n",
      "Password is correct!\n"
     ]
    }
   ],
   "source": [
    "# Define the correct password\n",
    "correct_password = \"securepassword123\"\n",
    "\n",
    "# Initialize a variable to store the user's input\n",
    "user_input = \"\"\n",
    "\n",
    "# Use a while loop to prompt the user for a password until the correct one is entered\n",
    "while user_input != correct_password:\n",
    "    # Ask the user for their password\n",
    "    user_input = input(\"Please enter your password: \")\n",
    "\n",
    "    # Check if the password is correct\n",
    "    if user_input == correct_password:\n",
    "        print(\"Password is correct!\")\n",
    "    else:\n",
    "        print(\"Incorrect password. Please try again.\")\n"
   ]
  },
  {
   "cell_type": "code",
   "execution_count": 6,
   "metadata": {},
   "outputs": [
    {
     "name": "stdout",
     "output_type": "stream",
     "text": [
      "n\n",
      "a\n",
      "t\n",
      "h\n",
      "a\n",
      "n\n"
     ]
    }
   ],
   "source": [
    "# Ask the user for their name\n",
    "user_name = input(\"Please enter your name: \")\n",
    "\n",
    "# Iterate through each letter in the name\n",
    "for letter in user_name:\n",
    "    print(letter)\n"
   ]
  },
  {
   "cell_type": "code",
   "execution_count": 7,
   "metadata": {},
   "outputs": [
    {
     "name": "stdout",
     "output_type": "stream",
     "text": [
      "Apple\n",
      "Banana\n",
      "Cherry\n",
      "Date\n",
      "Elderberry\n",
      "Fig\n",
      "Grape\n"
     ]
    }
   ],
   "source": [
    "# List of different fruits\n",
    "fruits = [\"Apple\", \"Banana\", \"Cherry\", \"Date\", \"Elderberry\", \"Fig\", \"Grape\"]\n",
    "\n",
    "# Iterate through the list of fruits\n",
    "for fruit in fruits:\n",
    "    print(fruit)\n"
   ]
  }
 ],
 "metadata": {
  "kernelspec": {
   "display_name": ".venv",
   "language": "python",
   "name": "python3"
  },
  "language_info": {
   "codemirror_mode": {
    "name": "ipython",
    "version": 3
   },
   "file_extension": ".py",
   "mimetype": "text/x-python",
   "name": "python",
   "nbconvert_exporter": "python",
   "pygments_lexer": "ipython3",
   "version": "3.10.12"
  }
 },
 "nbformat": 4,
 "nbformat_minor": 2
}
