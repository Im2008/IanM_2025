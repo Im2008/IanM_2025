{
 "cells": [
  {
   "cell_type": "markdown",
   "metadata": {},
   "source": [
    "---\n",
    "toc: false\n",
    "comments: true\n",
    "layout: post\n",
    "title: 3.5 HACKS\n",
    "description: Student led teaching on Abstraction. Teaching how various data types can use abstraction for computational efficiency.\n",
    "permalink: /Lesson_Hacks/Hacks_3-5\n",
    "---"
   ]
  },
  {
   "cell_type": "markdown",
   "metadata": {},
   "source": [
    "# PYTHON pop HACK 1:"
   ]
  },
  {
   "cell_type": "code",
   "execution_count": 1,
   "metadata": {},
   "outputs": [
    {
     "name": "stdout",
     "output_type": "stream",
     "text": [
      "The number is non-negative.\n"
     ]
    }
   ],
   "source": [
    "def check_number():\n",
    "    try:\n",
    "        number = float(input(\"Please enter a number: \"))\n",
    "        if number < 0:\n",
    "            print(\"The number is negative.\")\n",
    "        else:\n",
    "            print(\"The number is non-negative.\")\n",
    "    except ValueError:\n",
    "        print(\"Invalid input! Please enter a valid number.\")\n",
    "\n",
    "check_number()"
   ]
  },
  {
   "cell_type": "markdown",
   "metadata": {},
   "source": [
    "# PYTHON pop HACK 2:"
   ]
  },
  {
   "cell_type": "code",
   "execution_count": 2,
   "metadata": {},
   "outputs": [
    {
     "name": "stdout",
     "output_type": "stream",
     "text": [
      "The student did not pass both subjects.\n"
     ]
    }
   ],
   "source": [
    "def check_scores(score1, score2):\n",
    "    if score1 >= 70 and score2 >= 70:\n",
    "        print(\"The student passed both subjects.\")\n",
    "    else:\n",
    "        print(\"The student did not pass both subjects.\")\n",
    "\n",
    "\n",
    "score1 = float(input(\"Enter the first score: \"))\n",
    "score2 = float(input(\"Enter the second score: \"))\n",
    "\n",
    "check_scores(score1, score2)"
   ]
  },
  {
   "cell_type": "markdown",
   "metadata": {},
   "source": [
    "# PYTHON pop HACK 3:"
   ]
  },
  {
   "cell_type": "code",
   "execution_count": 5,
   "metadata": {},
   "outputs": [
    {
     "name": "stdout",
     "output_type": "stream",
     "text": [
      "The character 'a' is a vowel.\n"
     ]
    }
   ],
   "source": [
    "def check_vowel(char):\n",
    "    vowels = 'aeiou'\n",
    "    if char.lower() in vowels:\n",
    "        print(f\"The character '{char}' is a vowel.\")\n",
    "    else:\n",
    "        print(f\"The character '{char}' is not a vowel.\")\n",
    "\n",
    "\n",
    "char = input(\"Enter a character: \")\n",
    "\n",
    "\n",
    "if len(char) == 1:\n",
    "    check_vowel(char)\n",
    "else:\n",
    "    print(\"Please enter a single character.\")"
   ]
  },
  {
   "cell_type": "markdown",
   "metadata": {},
   "source": [
    "# PYTHON HW HACK 1:"
   ]
  },
  {
   "cell_type": "code",
   "execution_count": 6,
   "metadata": {},
   "outputs": [
    {
     "name": "stdout",
     "output_type": "stream",
     "text": [
      "A     B     not (A and B)    not A or not B\n",
      "-------------------------------------------\n",
      "True  True    False             False\n",
      "True  False    True             True\n",
      "False  True    True             True\n",
      "False  False    True             True\n"
     ]
    }
   ],
   "source": [
    "def truth_table():\n",
    "    print(\"A     B     not (A and B)    not A or not B\")\n",
    "    print(\"-------------------------------------------\")\n",
    "    \n",
    "    values = [True, False]\n",
    "    \n",
    "    for A in values:\n",
    "        for B in values:\n",
    "            result1 = not (A and B)\n",
    "            result2 = not A or not B  # Applying De Morgan's Law\n",
    "            print(f\"{A}  {B}    {result1}             {result2}\")\n",
    "\n",
    "# Calling the function to print the truth table\n",
    "truth_table()"
   ]
  },
  {
   "cell_type": "markdown",
   "metadata": {},
   "source": [
    "# PYTHON HW HACK 2:"
   ]
  },
  {
   "cell_type": "code",
   "execution_count": 7,
   "metadata": {},
   "outputs": [
    {
     "name": "stdout",
     "output_type": "stream",
     "text": [
      "Welcome to the guessing game!\n",
      "You need to guess if two statements are True or False.\n",
      "\n",
      "Is the first condition True? (yes/no)\n",
      "Is the second condition True? (yes/no)\n",
      "Both conditions were False. You lose!\n"
     ]
    }
   ],
   "source": [
    "import random\n",
    "\n",
    "def guessing_game():\n",
    "    print(\"Welcome to the guessing game!\")\n",
    "    print(\"You need to guess if two statements are True or False.\")\n",
    "    \n",
    "    condition1 = random.choice([True, False])\n",
    "    condition2 = random.choice([True, False])\n",
    "    \n",
    "    print(\"\\nIs the first condition True? (yes/no)\")\n",
    "    guess1 = input().strip().lower() == 'yes'\n",
    "    \n",
    "    print(\"Is the second condition True? (yes/no)\")\n",
    "    guess2 = input().strip().lower() == 'yes'\n",
    "    \n",
    "    # Using De Morgan's Law to simplify the losing condition\n",
    "    if not (condition1 or condition2):  # Equivalent to `not condition1 and not condition2`\n",
    "        print(\"Both conditions were False. You lose!\")\n",
    "    else:\n",
    "        if guess1 == condition1 and guess2 == condition2:\n",
    "            print(\"Congratulations! You guessed both conditions correctly!\")\n",
    "        else:\n",
    "            print(\"Sorry! You guessed wrong. The correct conditions were:\")\n",
    "            print(f\"Condition 1: {condition1}\")\n",
    "            print(f\"Condition 2: {condition2}\")\n",
    "\n",
    "# Start the game\n",
    "guessing_game()"
   ]
  },
  {
   "cell_type": "markdown",
   "metadata": {},
   "source": [
    "# PYTHON HW HACK 3:"
   ]
  },
  {
   "cell_type": "code",
   "execution_count": 8,
   "metadata": {},
   "outputs": [
    {
     "name": "stdout",
     "output_type": "stream",
     "text": [
      "The number is negative.\n",
      "The number is not negative.\n"
     ]
    }
   ],
   "source": [
    "def check_number(number):\n",
    "    if number < 0:\n",
    "        return \"The number is negative.\"\n",
    "    else:\n",
    "        return \"The number is not negative.\"\n",
    "\n",
    "# Test the function\n",
    "print(check_number(-10))  # Output: The number is negative.\n",
    "print(check_number(5))    # Output: The number is not negative.\n"
   ]
  },
  {
   "cell_type": "markdown",
   "metadata": {},
   "source": [
    "# PYTHON HW HACK 4:"
   ]
  },
  {
   "cell_type": "code",
   "execution_count": 9,
   "metadata": {},
   "outputs": [
    {
     "name": "stdout",
     "output_type": "stream",
     "text": [
      "Both scores are 70 or above.\n",
      "One or both scores are below 70.\n"
     ]
    }
   ],
   "source": [
    "def check_scores(score1, score2):\n",
    "    if score1 >= 70 and score2 >= 70:\n",
    "        return \"Both scores are 70 or above.\"\n",
    "    else:\n",
    "        return \"One or both scores are below 70.\"\n",
    "\n",
    "# Test the function\n",
    "print(check_scores(75, 80))  # Output: Both scores are 70 or above.\n",
    "print(check_scores(60, 80))  # Output: One or both scores are below 70.\n"
   ]
  },
  {
   "cell_type": "markdown",
   "metadata": {},
   "source": [
    "# PYTHON HW HACK 5:"
   ]
  },
  {
   "cell_type": "code",
   "execution_count": 10,
   "metadata": {},
   "outputs": [
    {
     "name": "stdout",
     "output_type": "stream",
     "text": [
      "a is a vowel.\n",
      "B is not a vowel.\n"
     ]
    }
   ],
   "source": [
    "def check_vowel(character):\n",
    "    vowels = \"aeiouAEIOU\"\n",
    "    if character in vowels:\n",
    "        return f\"{character} is a vowel.\"\n",
    "    else:\n",
    "        return f\"{character} is not a vowel.\"\n",
    "\n",
    "# Test the function\n",
    "print(check_vowel('a'))  # Output: a is a vowel.\n",
    "print(check_vowel('B'))  # Output: B is not a vowel.\n"
   ]
  },
  {
   "cell_type": "markdown",
   "metadata": {},
   "source": [
    "# Javascript pop Hack 1:"
   ]
  },
  {
   "cell_type": "code",
   "execution_count": null,
   "metadata": {
    "vscode": {
     "languageId": "javascript"
    }
   },
   "outputs": [],
   "source": [
    "function outfitPicker(temp) {\n",
    "    if (temp <= 32) {\n",
    "        return \"It's freezing! Wear a heavy coat, gloves, and a scarf.\";\n",
    "    } else if (temp > 32 && temp <= 60) {\n",
    "        return \"It's chilly! Wear a jacket and jeans.\";\n",
    "    } else if (temp > 60 && temp <= 80) {\n",
    "        return \"It's warm! A t-shirt and shorts should be fine.\";\n",
    "    } else if (temp > 80) {\n",
    "        return \"It's hot! Wear light clothing like a tank top and shorts.\";\n",
    "    } else {\n",
    "        return \"Please enter a valid temperature.\";\n",
    "    }\n",
    "}\n",
    "\n",
    "// Example: Prompting the user to input the temperature\n",
    "let temperature = prompt(\"Enter the temperature:\");\n",
    "console.log(outfitPicker(Number(temperature)));"
   ]
  },
  {
   "cell_type": "markdown",
   "metadata": {},
   "source": [
    "# Javascript pop Hack 2:"
   ]
  },
  {
   "cell_type": "code",
   "execution_count": null,
   "metadata": {
    "vscode": {
     "languageId": "javascript"
    }
   },
   "outputs": [],
   "source": [
    "function findLargestAndSort(numbers) {\n",
    "    numbers.sort((a, b) => a - b); // Sorting numbers in ascending order\n",
    "    console.log(`Sorted numbers from least to greatest: ${numbers}`);\n",
    "    console.log(`The largest number is: ${numbers[numbers.length - 1]}`);\n",
    "}\n",
    "\n",
    "// Example usage\n",
    "let numberList = [34, 15, 88, 2, 43, 19];\n",
    "findLargestAndSort(numberList);"
   ]
  },
  {
   "cell_type": "markdown",
   "metadata": {},
   "source": [
    "# Javascript pop HACK 3:"
   ]
  },
  {
   "cell_type": "code",
   "execution_count": null,
   "metadata": {
    "vscode": {
     "languageId": "javascript"
    }
   },
   "outputs": [],
   "source": [
    "function checkEvenOrOdd(num) {\n",
    "    if (num % 2 === 0) {\n",
    "        return `${num} is even.`;\n",
    "    } else {\n",
    "        return `${num} is odd.`;\n",
    "    }\n",
    "}\n",
    "\n",
    "// Example: Prompting the user to input a number\n",
    "let number = prompt(\"Enter a number:\");\n",
    "console.log(checkEvenOrOdd(Number(number)));"
   ]
  },
  {
   "cell_type": "markdown",
   "metadata": {},
   "source": [
    "# JAVASCRIPT HW HACK 1:"
   ]
  },
  {
   "cell_type": "code",
   "execution_count": null,
   "metadata": {
    "vscode": {
     "languageId": "javascript"
    }
   },
   "outputs": [],
   "source": [
    "function checkPassword(password) {\n",
    "    // Check if the password is at least 10 characters long, includes both uppercase and lowercase letters,\n",
    "    // has at least one number, one special character, no spaces, and no more than 3 consecutive letters.\n",
    "    const hasUppercase = /[A-Z]/.test(password);\n",
    "    const hasLowercase = /[a-z]/.test(password);\n",
    "    const hasNumber = /\\d/.test(password);\n",
    "    const hasSpecialChar = /[!@#$%^&*(),.?\":{}|<>]/.test(password);\n",
    "    const noSpaces = !/\\s/.test(password);\n",
    "    const noMoreThanThreeSameLetters = !/(.)\\1{2}/.test(password); // Checks for more than 3 consecutive letters\n",
    "\n",
    "    const isValidLength = password.length >= 10;\n",
    "\n",
    "    // Simplifying using De Morgan’s Law: !(A && B && C && D) becomes !A || !B || !C || !D\n",
    "    if (!isValidLength || !hasUppercase || !hasLowercase || !hasNumber || !hasSpecialChar || !noSpaces || !noMoreThanThreeSameLetters) {\n",
    "        return \"Password does not meet the criteria.\";\n",
    "    }\n",
    "    return \"Password is valid!\";\n",
    "}\n",
    "\n",
    "// Test the function\n",
    "console.log(checkPassword(\"MySecurePass1!\")); // Should return \"Password is valid!\" if it meets all criteria\n",
    "console.log(checkPassword(\"badpass\")); // Should return \"Password does not meet the criteria.\""
   ]
  },
  {
   "cell_type": "markdown",
   "metadata": {},
   "source": [
    "# JAVASCRIPT HW HACK 2:"
   ]
  },
  {
   "cell_type": "code",
   "execution_count": null,
   "metadata": {
    "vscode": {
     "languageId": "javascript"
    }
   },
   "outputs": [],
   "source": [
    "function personalityQuiz() {\n",
    "    let score = 0;\n",
    "    \n",
    "    const questions = [\n",
    "        { question: \"What's your favorite color?\", options: ['a. Blue', 'b. Red', 'c. Yellow'], scoreMapping: {a: 1, b: 2, c: 3} },\n",
    "        { question: \"Do you prefer the city or the countryside?\", options: ['a. City', 'b. Countryside', 'c. Both'], scoreMapping: {a: 2, b: 1, c: 3} },\n",
    "        { question: \"Are you more of an early bird or a night owl?\", options: ['a. Early bird', 'b. Night owl', 'c. Neither'], scoreMapping: {a: 1, b: 2, c: 3} },\n",
    "        { question: \"What type of music do you like?\", options: ['a. Pop', 'b. Rock', 'c. Classical'], scoreMapping: {a: 1, b: 2, c: 3} },\n",
    "        { question: \"Do you enjoy sports?\", options: ['a. Yes', 'b. No', 'c. Sometimes'], scoreMapping: {a: 1, b: 2, c: 3} },\n",
    "        { question: \"Are you more introverted or extroverted?\", options: ['a. Introverted', 'b. Extroverted', 'c. In between'], scoreMapping: {a: 2, b: 1, c: 3} },\n",
    "        { question: \"Which do you prefer: books or movies?\", options: ['a. Books', 'b. Movies', 'c. Both'], scoreMapping: {a: 1, b: 2, c: 3} },\n",
    "        { question: \"What's your favorite season?\", options: ['a. Winter', 'b. Summer', 'c. Fall'], scoreMapping: {a: 1, b: 2, c: 3} },\n",
    "        { question: \"Do you prefer dogs or cats?\", options: ['a. Dogs', 'b. Cats', 'c. Neither'], scoreMapping: {a: 2, b: 1, c: 3} },\n",
    "        { question: \"Would you rather travel or stay home?\", options: ['a. Travel', 'b. Stay home', 'c. Both'], scoreMapping: {a: 2, b: 1, c: 3} }\n",
    "    ];\n",
    "\n",
    "    questions.forEach((q, index) => {\n",
    "        let answer = prompt(`${index + 1}. ${q.question}\\n${q.options.join('\\n')}`);\n",
    "        answer = answer.toLowerCase();\n",
    "        if (q.scoreMapping[answer]) {\n",
    "            score += q.scoreMapping[answer];\n",
    "        }\n",
    "    });\n",
    "\n",
    "    let personalityType = \"\";\n",
    "\n",
    "    if (score <= 10) {\n",
    "        personalityType = \"You are an introvert, calm and thoughtful.\";\n",
    "    } else if (score <= 20) {\n",
    "        personalityType = \"You have a balanced personality, sometimes outgoing, sometimes reserved.\";\n",
    "    } else {\n",
    "        personalityType = \"You are an extrovert, outgoing and social!\";\n",
    "    }\n",
    "\n",
    "    return personalityType;\n",
    "}\n",
    "\n",
    "// Run the quiz\n",
    "console.log(personalityQuiz());"
   ]
  }
 ],
 "metadata": {
  "kernelspec": {
   "display_name": ".venv",
   "language": "python",
   "name": "python3"
  },
  "language_info": {
   "codemirror_mode": {
    "name": "ipython",
    "version": 3
   },
   "file_extension": ".py",
   "mimetype": "text/x-python",
   "name": "python",
   "nbconvert_exporter": "python",
   "pygments_lexer": "ipython3",
   "version": "3.10.12"
  }
 },
 "nbformat": 4,
 "nbformat_minor": 2
}
