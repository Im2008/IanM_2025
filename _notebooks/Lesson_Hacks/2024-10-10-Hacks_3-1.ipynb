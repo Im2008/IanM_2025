{
 "cells": [
  {
   "cell_type": "markdown",
   "metadata": {},
   "source": [
    "---\n",
    "toc: false\n",
    "comments: true\n",
    "layout: post\n",
    "title: 3.1 HACKS\n",
    "description: Student led teaching on Abstraction. Teaching how various data types can use abstraction for computational efficiency.\n",
    "permalink: /Lesson_Hacks/Hacks_3-1\n",
    "---"
   ]
  },
  {
   "cell_type": "markdown",
   "metadata": {},
   "source": [
    "## PYTHON POPCORN HACK 1:"
   ]
  },
  {
   "cell_type": "code",
   "execution_count": 2,
   "metadata": {},
   "outputs": [
    {
     "name": "stdout",
     "output_type": "stream",
     "text": [
      "Team Leader: Thomas Bao\n",
      "Classmate: Collin Ge\n",
      "Classmate: Aarush Gota\n",
      "Me: Ian Manangan\n"
     ]
    }
   ],
   "source": [
    "# Strings\n",
    "daddy = \"Thomas Bao\"\n",
    "classmate2 = \"Collin Ge\"\n",
    "classmate3 = \"Aarush Gota\"\n",
    "me = \"Ian Manangan\"\n",
    "\n",
    "# Printing out team members\n",
    "print(\"Team Leader:\", daddy)\n",
    "print(\"Classmate:\", classmate2)\n",
    "print(\"Classmate:\", classmate3)\n",
    "print(\"Me:\", me)"
   ]
  },
  {
   "cell_type": "markdown",
   "metadata": {},
   "source": [
    "## PYTHON POPCORN HACK 2:"
   ]
  },
  {
   "cell_type": "code",
   "execution_count": 6,
   "metadata": {},
   "outputs": [
    {
     "name": "stdout",
     "output_type": "stream",
     "text": [
      "{'red': 'apple', 'orange': 'orange', 'yellow': 'banana'}\n",
      "apple\n"
     ]
    }
   ],
   "source": [
    "# Dictionary for fruits\n",
    "fruits = {\n",
    "    \"red\": \"apple\",\n",
    "    \"orange\": \"orange\",\n",
    "    \"yellow\": \"banana\"\n",
    "}\n",
    "\n",
    "# Output\n",
    "print(fruits)\n",
    "print(fruits[\"red\"])\n",
    "print(fruits[\"orange\"])\n",
    "print(fruits[\"yellow\"])"
   ]
  },
  {
   "cell_type": "markdown",
   "metadata": {},
   "source": [
    "## PYTHON HOMEWORK HACK 1:"
   ]
  },
  {
   "cell_type": "code",
   "execution_count": 9,
   "metadata": {},
   "outputs": [
    {
     "name": "stdout",
     "output_type": "stream",
     "text": [
      "Student Information: ['Ian Manangan', 16, 88.75]\n",
      "Student Name: Ian Manangan\n",
      "Student Age: 16\n",
      "Average Grade: 88.75\n"
     ]
    }
   ],
   "source": [
    "# Hack #2: Average Grade Calculator using integers, addition, and lists\n",
    "\n",
    "# Step 1: Define the student's information and their grades\n",
    "# Using variables to store scores\n",
    "student_name = \"Ian Manangan\"\n",
    "student_age = 16\n",
    "math_score = 85\n",
    "science_score = 90\n",
    "history_score = 88\n",
    "english_score = 92\n",
    "\n",
    "# Step 2: Add the grades together and calculate the average\n",
    "# Calculate the total score by adding individual scores\n",
    "total_score = math_score + science_score + history_score + english_score\n",
    "\n",
    "# Number of subjects\n",
    "number_of_subjects = 4\n",
    "\n",
    "# Calculate the average grade\n",
    "average_grade = total_score / number_of_subjects\n",
    "\n",
    "# Step 3: Create a list to store student info (name, age, average grade)\n",
    "# Storing the information as a list in Python\n",
    "student_info = [student_name, student_age, average_grade]\n",
    "\n",
    "# Step 4: Print the result\n",
    "# Print student info and their average grade\n",
    "print(\"Student Information:\", student_info)\n",
    "print(f\"Student Name: {student_info[0]}\")\n",
    "print(f\"Student Age: {student_info[1]}\")\n",
    "print(f\"Average Grade: {student_info[2]:.2f}\")  # Formatting the average to 2 decimal places"
   ]
  },
  {
   "cell_type": "markdown",
   "metadata": {},
   "source": [
    "## JAVASCRIPT POPCORN HACK 1:"
   ]
  },
  {
   "cell_type": "code",
   "execution_count": null,
   "metadata": {
    "vscode": {
     "languageId": "javascript"
    }
   },
   "outputs": [],
   "source": [
    "// Declare an object using 'const'\n",
    "const person = {\n",
    "    firstName: \"Ian\",\n",
    "    lastName: \"Manangan\",\n",
    "    age: 1000000\n",
    "};\n",
    "\n",
    "// Log the original object\n",
    "console.log(\"Original object:\", person);\n",
    "\n",
    "// Update properties of the object\n",
    "person.firstName = \"Taylor\"; // Changing first name\n",
    "person.age = 26;             // Updating age\n",
    "\n",
    "// Add a new property\n",
    "person.city = \"New York\";\n",
    "\n",
    "// Log the updated object\n",
    "console.log(\"Updated object:\", person);"
   ]
  },
  {
   "cell_type": "markdown",
   "metadata": {},
   "source": [
    "## JAVASCRIPT HOMEWORK HACK 1:"
   ]
  },
  {
   "cell_type": "code",
   "execution_count": null,
   "metadata": {
    "vscode": {
     "languageId": "javascript"
    }
   },
   "outputs": [],
   "source": [
    "// Hack #1: Defining variables automatically using let and const\n",
    "\n",
    "// Declare a variable using 'let' (can be reassigned)\n",
    "let myName = \"Ian\";\n",
    "\n",
    "// Declare a variable using 'const' (cannot be reassigned)\n",
    "const greeting = \"Hello\";\n",
    "\n",
    "// Another 'let' variable to store a place\n",
    "let place = \"world\";\n",
    "\n",
    "// This function will call all the variables and string them together into a sentence\n",
    "function createGreeting() {\n",
    "    // Concatenate the variables to form a sentence\n",
    "    const sentence = greeting + \", \" + myName + \"! Welcome to the \" + place + \".\";\n",
    "    \n",
    "    // Log the sentence to the console\n",
    "    console.log(sentence);\n",
    "}\n",
    "\n",
    "// Calling the function to see the result in the console\n",
    "createGreeting();\n",
    "\n",
    "// View individual values of each variable\n",
    "console.log(\"My Name:\", myName);\n",
    "console.log(\"Greeting:\", greeting);\n",
    "console.log(\"Place:\", place);"
   ]
  }
 ],
 "metadata": {
  "kernelspec": {
   "display_name": "venv",
   "language": "python",
   "name": "python3"
  },
  "language_info": {
   "codemirror_mode": {
    "name": "ipython",
    "version": 3
   },
   "file_extension": ".py",
   "mimetype": "text/x-python",
   "name": "python",
   "nbconvert_exporter": "python",
   "pygments_lexer": "ipython3",
   "version": "3.10.12"
  }
 },
 "nbformat": 4,
 "nbformat_minor": 2
}
