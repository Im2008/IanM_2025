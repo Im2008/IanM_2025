{
 "cells": [
  {
   "cell_type": "markdown",
   "metadata": {},
   "source": [
    "---\n",
    "toc: false\n",
    "comments: true\n",
    "layout: post\n",
    "title: 3.1 HACKS\n",
    "description: Student led teaching on Abstraction. Teaching how various data types can use abstraction for computational efficiency.\n",
    "permalink: /Lesson_Hacks/Hacks_3-1\n",
    "---"
   ]
  },
  {
   "cell_type": "code",
   "execution_count": null,
   "metadata": {},
   "outputs": [],
   "source": [
    "daddy = \"Thomas Bao\"\n",
    "classmate2 = \"Collin Ge\"\n",
    "classmate3 = \"Aarush Gota\"\n",
    "me = \"Ian Manangan\"\n",
    "\n",
    "# Printing out team members\n",
    "print(\"Team Leader:\", daddy)\n",
    "print(\"Classmate:\", classmate2)\n",
    "print(\"Classmate:\", classmate3)\n",
    "print(\"Me:\", me)"
   ]
  },
  {
   "cell_type": "code",
   "execution_count": null,
   "metadata": {},
   "outputs": [],
   "source": []
  }
 ],
 "metadata": {
  "language_info": {
   "name": "python"
  }
 },
 "nbformat": 4,
 "nbformat_minor": 2
}
