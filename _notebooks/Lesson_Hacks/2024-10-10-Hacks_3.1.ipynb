{
 "cells": [
  {
   "cell_type": "code",
   "execution_count": null,
   "metadata": {},
   "outputs": [],
   "source": [
    "daddy = \"Thomas Bao\"\n",
    "classmate2 = \"Collin Ge\"\n",
    "classmate3 = \"Aarush Gota\"\n",
    "me = \"Ian Manangan\"\n",
    "\n",
    "# Printing out team members\n",
    "print(\"Team Leader:\", daddy)\n",
    "print(\"Classmate:\", classmate2)\n",
    "print(\"Classmate:\", classmate3)\n",
    "print(\"Me:\", me)"
   ]
  }
 ],
 "metadata": {
  "language_info": {
   "name": "python"
  }
 },
 "nbformat": 4,
 "nbformat_minor": 2
}
